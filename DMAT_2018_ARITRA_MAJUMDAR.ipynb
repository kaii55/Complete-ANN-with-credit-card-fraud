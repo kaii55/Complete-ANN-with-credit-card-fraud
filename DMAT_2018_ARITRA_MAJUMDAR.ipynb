{
  "nbformat": 4,
  "nbformat_minor": 0,
  "metadata": {
    "kernelspec": {
      "display_name": "Python 3",
      "language": "python",
      "name": "python3"
    },
    "language_info": {
      "codemirror_mode": {
        "name": "ipython",
        "version": 3
      },
      "file_extension": ".py",
      "mimetype": "text/x-python",
      "name": "python",
      "nbconvert_exporter": "python",
      "pygments_lexer": "ipython3",
      "version": "3.6.6"
    },
    "colab": {
      "name": "DMAT_2018_ARITRA_MAJUMDAR.ipynb",
      "provenance": [],
      "include_colab_link": true
    }
  },
  "cells": [
    {
      "cell_type": "markdown",
      "metadata": {
        "id": "view-in-github",
        "colab_type": "text"
      },
      "source": [
        "<a href=\"https://colab.research.google.com/github/kaii55/Complete-ANN-with-credit-card-fraud/blob/master/DMAT_2018_ARITRA_MAJUMDAR.ipynb\" target=\"_parent\"><img src=\"https://colab.research.google.com/assets/colab-badge.svg\" alt=\"Open In Colab\"/></a>"
      ]
    },
    {
      "cell_type": "code",
      "metadata": {
        "id": "jacS3vfKvZAq",
        "outputId": "8f9c0d3f-53a3-411a-e0c0-c2eb864b6ba3",
        "colab": {
          "base_uri": "https://localhost:8080/",
          "height": 224
        }
      },
      "source": [
        "#Importing basic libraries\n",
        "import pandas as pd\n",
        "import numpy as np\n",
        "import matplotlib.pyplot as plt\n",
        "\n",
        "import warnings\n",
        "warnings.filterwarnings('ignore')\n",
        "\n",
        "#Importing libraries for data splitting and sampling\n",
        "from sklearn.model_selection import train_test_split\n",
        "from imblearn.over_sampling import SMOTE \n",
        "\n",
        "#Importing libraries for Artificial Neural Network\n",
        "import tensorflow as tf\n",
        "import keras\n",
        "from keras.models import Sequential\n",
        "from keras.layers import Dense, Dropout\n",
        "from keras.callbacks import EarlyStopping \n",
        "from keras.wrappers.scikit_learn import KerasClassifier, KerasRegressor\n",
        "\n",
        "#Importing libraries for model evaluation \n",
        "from sklearn.metrics import f1_score\n",
        "from sklearn.metrics import confusion_matrix\n",
        "from sklearn.metrics import classification_report\n",
        "\n",
        "#Other libraries\n",
        "import eli5\n",
        "from eli5.sklearn import PermutationImportance\n",
        "\n",
        "\n",
        "#Reading the data\n",
        "df = pd.read_csv('creditcard.csv')\n",
        "\n",
        "#Printing the first five rows of the data\n",
        "df.head()"
      ],
      "execution_count": null,
      "outputs": [
        {
          "output_type": "execute_result",
          "data": {
            "text/html": [
              "<div>\n",
              "<style scoped>\n",
              "    .dataframe tbody tr th:only-of-type {\n",
              "        vertical-align: middle;\n",
              "    }\n",
              "\n",
              "    .dataframe tbody tr th {\n",
              "        vertical-align: top;\n",
              "    }\n",
              "\n",
              "    .dataframe thead th {\n",
              "        text-align: right;\n",
              "    }\n",
              "</style>\n",
              "<table border=\"1\" class=\"dataframe\">\n",
              "  <thead>\n",
              "    <tr style=\"text-align: right;\">\n",
              "      <th></th>\n",
              "      <th>Time</th>\n",
              "      <th>V1</th>\n",
              "      <th>V2</th>\n",
              "      <th>V3</th>\n",
              "      <th>V4</th>\n",
              "      <th>V5</th>\n",
              "      <th>V6</th>\n",
              "      <th>V7</th>\n",
              "      <th>V8</th>\n",
              "      <th>V9</th>\n",
              "      <th>V10</th>\n",
              "      <th>V11</th>\n",
              "      <th>V12</th>\n",
              "      <th>V13</th>\n",
              "      <th>V14</th>\n",
              "      <th>V15</th>\n",
              "      <th>V16</th>\n",
              "      <th>V17</th>\n",
              "      <th>V18</th>\n",
              "      <th>V19</th>\n",
              "      <th>V20</th>\n",
              "      <th>V21</th>\n",
              "      <th>V22</th>\n",
              "      <th>V23</th>\n",
              "      <th>V24</th>\n",
              "      <th>V25</th>\n",
              "      <th>V26</th>\n",
              "      <th>V27</th>\n",
              "      <th>V28</th>\n",
              "      <th>Amount</th>\n",
              "      <th>Class</th>\n",
              "    </tr>\n",
              "  </thead>\n",
              "  <tbody>\n",
              "    <tr>\n",
              "      <th>0</th>\n",
              "      <td>0.0</td>\n",
              "      <td>-1.359807</td>\n",
              "      <td>-0.072781</td>\n",
              "      <td>2.536347</td>\n",
              "      <td>1.378155</td>\n",
              "      <td>-0.338321</td>\n",
              "      <td>0.462388</td>\n",
              "      <td>0.239599</td>\n",
              "      <td>0.098698</td>\n",
              "      <td>0.363787</td>\n",
              "      <td>0.090794</td>\n",
              "      <td>-0.551600</td>\n",
              "      <td>-0.617801</td>\n",
              "      <td>-0.991390</td>\n",
              "      <td>-0.311169</td>\n",
              "      <td>1.468177</td>\n",
              "      <td>-0.470401</td>\n",
              "      <td>0.207971</td>\n",
              "      <td>0.025791</td>\n",
              "      <td>0.403993</td>\n",
              "      <td>0.251412</td>\n",
              "      <td>-0.018307</td>\n",
              "      <td>0.277838</td>\n",
              "      <td>-0.110474</td>\n",
              "      <td>0.066928</td>\n",
              "      <td>0.128539</td>\n",
              "      <td>-0.189115</td>\n",
              "      <td>0.133558</td>\n",
              "      <td>-0.021053</td>\n",
              "      <td>149.62</td>\n",
              "      <td>0</td>\n",
              "    </tr>\n",
              "    <tr>\n",
              "      <th>1</th>\n",
              "      <td>0.0</td>\n",
              "      <td>1.191857</td>\n",
              "      <td>0.266151</td>\n",
              "      <td>0.166480</td>\n",
              "      <td>0.448154</td>\n",
              "      <td>0.060018</td>\n",
              "      <td>-0.082361</td>\n",
              "      <td>-0.078803</td>\n",
              "      <td>0.085102</td>\n",
              "      <td>-0.255425</td>\n",
              "      <td>-0.166974</td>\n",
              "      <td>1.612727</td>\n",
              "      <td>1.065235</td>\n",
              "      <td>0.489095</td>\n",
              "      <td>-0.143772</td>\n",
              "      <td>0.635558</td>\n",
              "      <td>0.463917</td>\n",
              "      <td>-0.114805</td>\n",
              "      <td>-0.183361</td>\n",
              "      <td>-0.145783</td>\n",
              "      <td>-0.069083</td>\n",
              "      <td>-0.225775</td>\n",
              "      <td>-0.638672</td>\n",
              "      <td>0.101288</td>\n",
              "      <td>-0.339846</td>\n",
              "      <td>0.167170</td>\n",
              "      <td>0.125895</td>\n",
              "      <td>-0.008983</td>\n",
              "      <td>0.014724</td>\n",
              "      <td>2.69</td>\n",
              "      <td>0</td>\n",
              "    </tr>\n",
              "    <tr>\n",
              "      <th>2</th>\n",
              "      <td>1.0</td>\n",
              "      <td>-1.358354</td>\n",
              "      <td>-1.340163</td>\n",
              "      <td>1.773209</td>\n",
              "      <td>0.379780</td>\n",
              "      <td>-0.503198</td>\n",
              "      <td>1.800499</td>\n",
              "      <td>0.791461</td>\n",
              "      <td>0.247676</td>\n",
              "      <td>-1.514654</td>\n",
              "      <td>0.207643</td>\n",
              "      <td>0.624501</td>\n",
              "      <td>0.066084</td>\n",
              "      <td>0.717293</td>\n",
              "      <td>-0.165946</td>\n",
              "      <td>2.345865</td>\n",
              "      <td>-2.890083</td>\n",
              "      <td>1.109969</td>\n",
              "      <td>-0.121359</td>\n",
              "      <td>-2.261857</td>\n",
              "      <td>0.524980</td>\n",
              "      <td>0.247998</td>\n",
              "      <td>0.771679</td>\n",
              "      <td>0.909412</td>\n",
              "      <td>-0.689281</td>\n",
              "      <td>-0.327642</td>\n",
              "      <td>-0.139097</td>\n",
              "      <td>-0.055353</td>\n",
              "      <td>-0.059752</td>\n",
              "      <td>378.66</td>\n",
              "      <td>0</td>\n",
              "    </tr>\n",
              "    <tr>\n",
              "      <th>3</th>\n",
              "      <td>1.0</td>\n",
              "      <td>-0.966272</td>\n",
              "      <td>-0.185226</td>\n",
              "      <td>1.792993</td>\n",
              "      <td>-0.863291</td>\n",
              "      <td>-0.010309</td>\n",
              "      <td>1.247203</td>\n",
              "      <td>0.237609</td>\n",
              "      <td>0.377436</td>\n",
              "      <td>-1.387024</td>\n",
              "      <td>-0.054952</td>\n",
              "      <td>-0.226487</td>\n",
              "      <td>0.178228</td>\n",
              "      <td>0.507757</td>\n",
              "      <td>-0.287924</td>\n",
              "      <td>-0.631418</td>\n",
              "      <td>-1.059647</td>\n",
              "      <td>-0.684093</td>\n",
              "      <td>1.965775</td>\n",
              "      <td>-1.232622</td>\n",
              "      <td>-0.208038</td>\n",
              "      <td>-0.108300</td>\n",
              "      <td>0.005274</td>\n",
              "      <td>-0.190321</td>\n",
              "      <td>-1.175575</td>\n",
              "      <td>0.647376</td>\n",
              "      <td>-0.221929</td>\n",
              "      <td>0.062723</td>\n",
              "      <td>0.061458</td>\n",
              "      <td>123.50</td>\n",
              "      <td>0</td>\n",
              "    </tr>\n",
              "    <tr>\n",
              "      <th>4</th>\n",
              "      <td>2.0</td>\n",
              "      <td>-1.158233</td>\n",
              "      <td>0.877737</td>\n",
              "      <td>1.548718</td>\n",
              "      <td>0.403034</td>\n",
              "      <td>-0.407193</td>\n",
              "      <td>0.095921</td>\n",
              "      <td>0.592941</td>\n",
              "      <td>-0.270533</td>\n",
              "      <td>0.817739</td>\n",
              "      <td>0.753074</td>\n",
              "      <td>-0.822843</td>\n",
              "      <td>0.538196</td>\n",
              "      <td>1.345852</td>\n",
              "      <td>-1.119670</td>\n",
              "      <td>0.175121</td>\n",
              "      <td>-0.451449</td>\n",
              "      <td>-0.237033</td>\n",
              "      <td>-0.038195</td>\n",
              "      <td>0.803487</td>\n",
              "      <td>0.408542</td>\n",
              "      <td>-0.009431</td>\n",
              "      <td>0.798278</td>\n",
              "      <td>-0.137458</td>\n",
              "      <td>0.141267</td>\n",
              "      <td>-0.206010</td>\n",
              "      <td>0.502292</td>\n",
              "      <td>0.219422</td>\n",
              "      <td>0.215153</td>\n",
              "      <td>69.99</td>\n",
              "      <td>0</td>\n",
              "    </tr>\n",
              "  </tbody>\n",
              "</table>\n",
              "</div>"
            ],
            "text/plain": [
              "   Time        V1        V2        V3  ...       V27       V28  Amount  Class\n",
              "0   0.0 -1.359807 -0.072781  2.536347  ...  0.133558 -0.021053  149.62      0\n",
              "1   0.0  1.191857  0.266151  0.166480  ... -0.008983  0.014724    2.69      0\n",
              "2   1.0 -1.358354 -1.340163  1.773209  ... -0.055353 -0.059752  378.66      0\n",
              "3   1.0 -0.966272 -0.185226  1.792993  ...  0.062723  0.061458  123.50      0\n",
              "4   2.0 -1.158233  0.877737  1.548718  ...  0.219422  0.215153   69.99      0\n",
              "\n",
              "[5 rows x 31 columns]"
            ]
          },
          "metadata": {
            "tags": []
          },
          "execution_count": 1
        }
      ]
    },
    {
      "cell_type": "code",
      "metadata": {
        "id": "bVZDUevovZAw",
        "outputId": "1a59d57a-c453-4e19-ca88-d5c9bef411d9",
        "colab": {
          "base_uri": "https://localhost:8080/",
          "height": 663
        }
      },
      "source": [
        "#Checking the data types of the columns (Features)\n",
        "df.info()"
      ],
      "execution_count": null,
      "outputs": [
        {
          "output_type": "stream",
          "text": [
            "<class 'pandas.core.frame.DataFrame'>\n",
            "RangeIndex: 284807 entries, 0 to 284806\n",
            "Data columns (total 31 columns):\n",
            " #   Column  Non-Null Count   Dtype  \n",
            "---  ------  --------------   -----  \n",
            " 0   Time    284807 non-null  float64\n",
            " 1   V1      284807 non-null  float64\n",
            " 2   V2      284807 non-null  float64\n",
            " 3   V3      284807 non-null  float64\n",
            " 4   V4      284807 non-null  float64\n",
            " 5   V5      284807 non-null  float64\n",
            " 6   V6      284807 non-null  float64\n",
            " 7   V7      284807 non-null  float64\n",
            " 8   V8      284807 non-null  float64\n",
            " 9   V9      284807 non-null  float64\n",
            " 10  V10     284807 non-null  float64\n",
            " 11  V11     284807 non-null  float64\n",
            " 12  V12     284807 non-null  float64\n",
            " 13  V13     284807 non-null  float64\n",
            " 14  V14     284807 non-null  float64\n",
            " 15  V15     284807 non-null  float64\n",
            " 16  V16     284807 non-null  float64\n",
            " 17  V17     284807 non-null  float64\n",
            " 18  V18     284807 non-null  float64\n",
            " 19  V19     284807 non-null  float64\n",
            " 20  V20     284807 non-null  float64\n",
            " 21  V21     284807 non-null  float64\n",
            " 22  V22     284807 non-null  float64\n",
            " 23  V23     284807 non-null  float64\n",
            " 24  V24     284807 non-null  float64\n",
            " 25  V25     284807 non-null  float64\n",
            " 26  V26     284807 non-null  float64\n",
            " 27  V27     284807 non-null  float64\n",
            " 28  V28     284807 non-null  float64\n",
            " 29  Amount  284807 non-null  float64\n",
            " 30  Class   284807 non-null  int64  \n",
            "dtypes: float64(30), int64(1)\n",
            "memory usage: 67.4 MB\n"
          ],
          "name": "stdout"
        }
      ]
    },
    {
      "cell_type": "code",
      "metadata": {
        "id": "TrEBig-MvZA1",
        "outputId": "e42f573c-9cc4-4cf8-d424-a6094e70d016",
        "colab": {
          "base_uri": "https://localhost:8080/",
          "height": 561
        }
      },
      "source": [
        "#Checking for missing values\n",
        "df.isnull().sum()"
      ],
      "execution_count": null,
      "outputs": [
        {
          "output_type": "execute_result",
          "data": {
            "text/plain": [
              "Time      0\n",
              "V1        0\n",
              "V2        0\n",
              "V3        0\n",
              "V4        0\n",
              "V5        0\n",
              "V6        0\n",
              "V7        0\n",
              "V8        0\n",
              "V9        0\n",
              "V10       0\n",
              "V11       0\n",
              "V12       0\n",
              "V13       0\n",
              "V14       0\n",
              "V15       0\n",
              "V16       0\n",
              "V17       0\n",
              "V18       0\n",
              "V19       0\n",
              "V20       0\n",
              "V21       0\n",
              "V22       0\n",
              "V23       0\n",
              "V24       0\n",
              "V25       0\n",
              "V26       0\n",
              "V27       0\n",
              "V28       0\n",
              "Amount    0\n",
              "Class     0\n",
              "dtype: int64"
            ]
          },
          "metadata": {
            "tags": []
          },
          "execution_count": 3
        }
      ]
    },
    {
      "cell_type": "code",
      "metadata": {
        "id": "5Xl7KteNvZA5",
        "outputId": "98de15a4-113f-4e9c-98d9-465f8046ec7f",
        "colab": {
          "base_uri": "https://localhost:8080/",
          "height": 317
        }
      },
      "source": [
        "#Description of the dataset\n",
        "df.describe()"
      ],
      "execution_count": null,
      "outputs": [
        {
          "output_type": "execute_result",
          "data": {
            "text/html": [
              "<div>\n",
              "<style scoped>\n",
              "    .dataframe tbody tr th:only-of-type {\n",
              "        vertical-align: middle;\n",
              "    }\n",
              "\n",
              "    .dataframe tbody tr th {\n",
              "        vertical-align: top;\n",
              "    }\n",
              "\n",
              "    .dataframe thead th {\n",
              "        text-align: right;\n",
              "    }\n",
              "</style>\n",
              "<table border=\"1\" class=\"dataframe\">\n",
              "  <thead>\n",
              "    <tr style=\"text-align: right;\">\n",
              "      <th></th>\n",
              "      <th>Time</th>\n",
              "      <th>V1</th>\n",
              "      <th>V2</th>\n",
              "      <th>V3</th>\n",
              "      <th>V4</th>\n",
              "      <th>V5</th>\n",
              "      <th>V6</th>\n",
              "      <th>V7</th>\n",
              "      <th>V8</th>\n",
              "      <th>V9</th>\n",
              "      <th>V10</th>\n",
              "      <th>V11</th>\n",
              "      <th>V12</th>\n",
              "      <th>V13</th>\n",
              "      <th>V14</th>\n",
              "      <th>V15</th>\n",
              "      <th>V16</th>\n",
              "      <th>V17</th>\n",
              "      <th>V18</th>\n",
              "      <th>V19</th>\n",
              "      <th>V20</th>\n",
              "      <th>V21</th>\n",
              "      <th>V22</th>\n",
              "      <th>V23</th>\n",
              "      <th>V24</th>\n",
              "      <th>V25</th>\n",
              "      <th>V26</th>\n",
              "      <th>V27</th>\n",
              "      <th>V28</th>\n",
              "      <th>Amount</th>\n",
              "      <th>Class</th>\n",
              "    </tr>\n",
              "  </thead>\n",
              "  <tbody>\n",
              "    <tr>\n",
              "      <th>count</th>\n",
              "      <td>284807.000000</td>\n",
              "      <td>2.848070e+05</td>\n",
              "      <td>2.848070e+05</td>\n",
              "      <td>2.848070e+05</td>\n",
              "      <td>2.848070e+05</td>\n",
              "      <td>2.848070e+05</td>\n",
              "      <td>2.848070e+05</td>\n",
              "      <td>2.848070e+05</td>\n",
              "      <td>2.848070e+05</td>\n",
              "      <td>2.848070e+05</td>\n",
              "      <td>2.848070e+05</td>\n",
              "      <td>2.848070e+05</td>\n",
              "      <td>2.848070e+05</td>\n",
              "      <td>2.848070e+05</td>\n",
              "      <td>2.848070e+05</td>\n",
              "      <td>2.848070e+05</td>\n",
              "      <td>2.848070e+05</td>\n",
              "      <td>2.848070e+05</td>\n",
              "      <td>2.848070e+05</td>\n",
              "      <td>2.848070e+05</td>\n",
              "      <td>2.848070e+05</td>\n",
              "      <td>2.848070e+05</td>\n",
              "      <td>2.848070e+05</td>\n",
              "      <td>2.848070e+05</td>\n",
              "      <td>2.848070e+05</td>\n",
              "      <td>2.848070e+05</td>\n",
              "      <td>2.848070e+05</td>\n",
              "      <td>2.848070e+05</td>\n",
              "      <td>2.848070e+05</td>\n",
              "      <td>284807.000000</td>\n",
              "      <td>284807.000000</td>\n",
              "    </tr>\n",
              "    <tr>\n",
              "      <th>mean</th>\n",
              "      <td>94813.859575</td>\n",
              "      <td>3.919560e-15</td>\n",
              "      <td>5.688174e-16</td>\n",
              "      <td>-8.769071e-15</td>\n",
              "      <td>2.782312e-15</td>\n",
              "      <td>-1.552563e-15</td>\n",
              "      <td>2.010663e-15</td>\n",
              "      <td>-1.694249e-15</td>\n",
              "      <td>-1.927028e-16</td>\n",
              "      <td>-3.137024e-15</td>\n",
              "      <td>1.768627e-15</td>\n",
              "      <td>9.170318e-16</td>\n",
              "      <td>-1.810658e-15</td>\n",
              "      <td>1.693438e-15</td>\n",
              "      <td>1.479045e-15</td>\n",
              "      <td>3.482336e-15</td>\n",
              "      <td>1.392007e-15</td>\n",
              "      <td>-7.528491e-16</td>\n",
              "      <td>4.328772e-16</td>\n",
              "      <td>9.049732e-16</td>\n",
              "      <td>5.085503e-16</td>\n",
              "      <td>1.537294e-16</td>\n",
              "      <td>7.959909e-16</td>\n",
              "      <td>5.367590e-16</td>\n",
              "      <td>4.458112e-15</td>\n",
              "      <td>1.453003e-15</td>\n",
              "      <td>1.699104e-15</td>\n",
              "      <td>-3.660161e-16</td>\n",
              "      <td>-1.206049e-16</td>\n",
              "      <td>88.349619</td>\n",
              "      <td>0.001727</td>\n",
              "    </tr>\n",
              "    <tr>\n",
              "      <th>std</th>\n",
              "      <td>47488.145955</td>\n",
              "      <td>1.958696e+00</td>\n",
              "      <td>1.651309e+00</td>\n",
              "      <td>1.516255e+00</td>\n",
              "      <td>1.415869e+00</td>\n",
              "      <td>1.380247e+00</td>\n",
              "      <td>1.332271e+00</td>\n",
              "      <td>1.237094e+00</td>\n",
              "      <td>1.194353e+00</td>\n",
              "      <td>1.098632e+00</td>\n",
              "      <td>1.088850e+00</td>\n",
              "      <td>1.020713e+00</td>\n",
              "      <td>9.992014e-01</td>\n",
              "      <td>9.952742e-01</td>\n",
              "      <td>9.585956e-01</td>\n",
              "      <td>9.153160e-01</td>\n",
              "      <td>8.762529e-01</td>\n",
              "      <td>8.493371e-01</td>\n",
              "      <td>8.381762e-01</td>\n",
              "      <td>8.140405e-01</td>\n",
              "      <td>7.709250e-01</td>\n",
              "      <td>7.345240e-01</td>\n",
              "      <td>7.257016e-01</td>\n",
              "      <td>6.244603e-01</td>\n",
              "      <td>6.056471e-01</td>\n",
              "      <td>5.212781e-01</td>\n",
              "      <td>4.822270e-01</td>\n",
              "      <td>4.036325e-01</td>\n",
              "      <td>3.300833e-01</td>\n",
              "      <td>250.120109</td>\n",
              "      <td>0.041527</td>\n",
              "    </tr>\n",
              "    <tr>\n",
              "      <th>min</th>\n",
              "      <td>0.000000</td>\n",
              "      <td>-5.640751e+01</td>\n",
              "      <td>-7.271573e+01</td>\n",
              "      <td>-4.832559e+01</td>\n",
              "      <td>-5.683171e+00</td>\n",
              "      <td>-1.137433e+02</td>\n",
              "      <td>-2.616051e+01</td>\n",
              "      <td>-4.355724e+01</td>\n",
              "      <td>-7.321672e+01</td>\n",
              "      <td>-1.343407e+01</td>\n",
              "      <td>-2.458826e+01</td>\n",
              "      <td>-4.797473e+00</td>\n",
              "      <td>-1.868371e+01</td>\n",
              "      <td>-5.791881e+00</td>\n",
              "      <td>-1.921433e+01</td>\n",
              "      <td>-4.498945e+00</td>\n",
              "      <td>-1.412985e+01</td>\n",
              "      <td>-2.516280e+01</td>\n",
              "      <td>-9.498746e+00</td>\n",
              "      <td>-7.213527e+00</td>\n",
              "      <td>-5.449772e+01</td>\n",
              "      <td>-3.483038e+01</td>\n",
              "      <td>-1.093314e+01</td>\n",
              "      <td>-4.480774e+01</td>\n",
              "      <td>-2.836627e+00</td>\n",
              "      <td>-1.029540e+01</td>\n",
              "      <td>-2.604551e+00</td>\n",
              "      <td>-2.256568e+01</td>\n",
              "      <td>-1.543008e+01</td>\n",
              "      <td>0.000000</td>\n",
              "      <td>0.000000</td>\n",
              "    </tr>\n",
              "    <tr>\n",
              "      <th>25%</th>\n",
              "      <td>54201.500000</td>\n",
              "      <td>-9.203734e-01</td>\n",
              "      <td>-5.985499e-01</td>\n",
              "      <td>-8.903648e-01</td>\n",
              "      <td>-8.486401e-01</td>\n",
              "      <td>-6.915971e-01</td>\n",
              "      <td>-7.682956e-01</td>\n",
              "      <td>-5.540759e-01</td>\n",
              "      <td>-2.086297e-01</td>\n",
              "      <td>-6.430976e-01</td>\n",
              "      <td>-5.354257e-01</td>\n",
              "      <td>-7.624942e-01</td>\n",
              "      <td>-4.055715e-01</td>\n",
              "      <td>-6.485393e-01</td>\n",
              "      <td>-4.255740e-01</td>\n",
              "      <td>-5.828843e-01</td>\n",
              "      <td>-4.680368e-01</td>\n",
              "      <td>-4.837483e-01</td>\n",
              "      <td>-4.988498e-01</td>\n",
              "      <td>-4.562989e-01</td>\n",
              "      <td>-2.117214e-01</td>\n",
              "      <td>-2.283949e-01</td>\n",
              "      <td>-5.423504e-01</td>\n",
              "      <td>-1.618463e-01</td>\n",
              "      <td>-3.545861e-01</td>\n",
              "      <td>-3.171451e-01</td>\n",
              "      <td>-3.269839e-01</td>\n",
              "      <td>-7.083953e-02</td>\n",
              "      <td>-5.295979e-02</td>\n",
              "      <td>5.600000</td>\n",
              "      <td>0.000000</td>\n",
              "    </tr>\n",
              "    <tr>\n",
              "      <th>50%</th>\n",
              "      <td>84692.000000</td>\n",
              "      <td>1.810880e-02</td>\n",
              "      <td>6.548556e-02</td>\n",
              "      <td>1.798463e-01</td>\n",
              "      <td>-1.984653e-02</td>\n",
              "      <td>-5.433583e-02</td>\n",
              "      <td>-2.741871e-01</td>\n",
              "      <td>4.010308e-02</td>\n",
              "      <td>2.235804e-02</td>\n",
              "      <td>-5.142873e-02</td>\n",
              "      <td>-9.291738e-02</td>\n",
              "      <td>-3.275735e-02</td>\n",
              "      <td>1.400326e-01</td>\n",
              "      <td>-1.356806e-02</td>\n",
              "      <td>5.060132e-02</td>\n",
              "      <td>4.807155e-02</td>\n",
              "      <td>6.641332e-02</td>\n",
              "      <td>-6.567575e-02</td>\n",
              "      <td>-3.636312e-03</td>\n",
              "      <td>3.734823e-03</td>\n",
              "      <td>-6.248109e-02</td>\n",
              "      <td>-2.945017e-02</td>\n",
              "      <td>6.781943e-03</td>\n",
              "      <td>-1.119293e-02</td>\n",
              "      <td>4.097606e-02</td>\n",
              "      <td>1.659350e-02</td>\n",
              "      <td>-5.213911e-02</td>\n",
              "      <td>1.342146e-03</td>\n",
              "      <td>1.124383e-02</td>\n",
              "      <td>22.000000</td>\n",
              "      <td>0.000000</td>\n",
              "    </tr>\n",
              "    <tr>\n",
              "      <th>75%</th>\n",
              "      <td>139320.500000</td>\n",
              "      <td>1.315642e+00</td>\n",
              "      <td>8.037239e-01</td>\n",
              "      <td>1.027196e+00</td>\n",
              "      <td>7.433413e-01</td>\n",
              "      <td>6.119264e-01</td>\n",
              "      <td>3.985649e-01</td>\n",
              "      <td>5.704361e-01</td>\n",
              "      <td>3.273459e-01</td>\n",
              "      <td>5.971390e-01</td>\n",
              "      <td>4.539234e-01</td>\n",
              "      <td>7.395934e-01</td>\n",
              "      <td>6.182380e-01</td>\n",
              "      <td>6.625050e-01</td>\n",
              "      <td>4.931498e-01</td>\n",
              "      <td>6.488208e-01</td>\n",
              "      <td>5.232963e-01</td>\n",
              "      <td>3.996750e-01</td>\n",
              "      <td>5.008067e-01</td>\n",
              "      <td>4.589494e-01</td>\n",
              "      <td>1.330408e-01</td>\n",
              "      <td>1.863772e-01</td>\n",
              "      <td>5.285536e-01</td>\n",
              "      <td>1.476421e-01</td>\n",
              "      <td>4.395266e-01</td>\n",
              "      <td>3.507156e-01</td>\n",
              "      <td>2.409522e-01</td>\n",
              "      <td>9.104512e-02</td>\n",
              "      <td>7.827995e-02</td>\n",
              "      <td>77.165000</td>\n",
              "      <td>0.000000</td>\n",
              "    </tr>\n",
              "    <tr>\n",
              "      <th>max</th>\n",
              "      <td>172792.000000</td>\n",
              "      <td>2.454930e+00</td>\n",
              "      <td>2.205773e+01</td>\n",
              "      <td>9.382558e+00</td>\n",
              "      <td>1.687534e+01</td>\n",
              "      <td>3.480167e+01</td>\n",
              "      <td>7.330163e+01</td>\n",
              "      <td>1.205895e+02</td>\n",
              "      <td>2.000721e+01</td>\n",
              "      <td>1.559499e+01</td>\n",
              "      <td>2.374514e+01</td>\n",
              "      <td>1.201891e+01</td>\n",
              "      <td>7.848392e+00</td>\n",
              "      <td>7.126883e+00</td>\n",
              "      <td>1.052677e+01</td>\n",
              "      <td>8.877742e+00</td>\n",
              "      <td>1.731511e+01</td>\n",
              "      <td>9.253526e+00</td>\n",
              "      <td>5.041069e+00</td>\n",
              "      <td>5.591971e+00</td>\n",
              "      <td>3.942090e+01</td>\n",
              "      <td>2.720284e+01</td>\n",
              "      <td>1.050309e+01</td>\n",
              "      <td>2.252841e+01</td>\n",
              "      <td>4.584549e+00</td>\n",
              "      <td>7.519589e+00</td>\n",
              "      <td>3.517346e+00</td>\n",
              "      <td>3.161220e+01</td>\n",
              "      <td>3.384781e+01</td>\n",
              "      <td>25691.160000</td>\n",
              "      <td>1.000000</td>\n",
              "    </tr>\n",
              "  </tbody>\n",
              "</table>\n",
              "</div>"
            ],
            "text/plain": [
              "                Time            V1  ...         Amount          Class\n",
              "count  284807.000000  2.848070e+05  ...  284807.000000  284807.000000\n",
              "mean    94813.859575  3.919560e-15  ...      88.349619       0.001727\n",
              "std     47488.145955  1.958696e+00  ...     250.120109       0.041527\n",
              "min         0.000000 -5.640751e+01  ...       0.000000       0.000000\n",
              "25%     54201.500000 -9.203734e-01  ...       5.600000       0.000000\n",
              "50%     84692.000000  1.810880e-02  ...      22.000000       0.000000\n",
              "75%    139320.500000  1.315642e+00  ...      77.165000       0.000000\n",
              "max    172792.000000  2.454930e+00  ...   25691.160000       1.000000\n",
              "\n",
              "[8 rows x 31 columns]"
            ]
          },
          "metadata": {
            "tags": []
          },
          "execution_count": 4
        }
      ]
    },
    {
      "cell_type": "code",
      "metadata": {
        "id": "ng3ukRnZvZA9",
        "outputId": "05a5a5f2-881a-4140-f64f-ebb119c72ee9",
        "colab": {
          "base_uri": "https://localhost:8080/",
          "height": 317
        }
      },
      "source": [
        "#Description of the fraudulent cases\n",
        "df[df['Class']==1].describe()"
      ],
      "execution_count": null,
      "outputs": [
        {
          "output_type": "execute_result",
          "data": {
            "text/html": [
              "<div>\n",
              "<style scoped>\n",
              "    .dataframe tbody tr th:only-of-type {\n",
              "        vertical-align: middle;\n",
              "    }\n",
              "\n",
              "    .dataframe tbody tr th {\n",
              "        vertical-align: top;\n",
              "    }\n",
              "\n",
              "    .dataframe thead th {\n",
              "        text-align: right;\n",
              "    }\n",
              "</style>\n",
              "<table border=\"1\" class=\"dataframe\">\n",
              "  <thead>\n",
              "    <tr style=\"text-align: right;\">\n",
              "      <th></th>\n",
              "      <th>Time</th>\n",
              "      <th>V1</th>\n",
              "      <th>V2</th>\n",
              "      <th>V3</th>\n",
              "      <th>V4</th>\n",
              "      <th>V5</th>\n",
              "      <th>V6</th>\n",
              "      <th>V7</th>\n",
              "      <th>V8</th>\n",
              "      <th>V9</th>\n",
              "      <th>V10</th>\n",
              "      <th>V11</th>\n",
              "      <th>V12</th>\n",
              "      <th>V13</th>\n",
              "      <th>V14</th>\n",
              "      <th>V15</th>\n",
              "      <th>V16</th>\n",
              "      <th>V17</th>\n",
              "      <th>V18</th>\n",
              "      <th>V19</th>\n",
              "      <th>V20</th>\n",
              "      <th>V21</th>\n",
              "      <th>V22</th>\n",
              "      <th>V23</th>\n",
              "      <th>V24</th>\n",
              "      <th>V25</th>\n",
              "      <th>V26</th>\n",
              "      <th>V27</th>\n",
              "      <th>V28</th>\n",
              "      <th>Amount</th>\n",
              "      <th>Class</th>\n",
              "    </tr>\n",
              "  </thead>\n",
              "  <tbody>\n",
              "    <tr>\n",
              "      <th>count</th>\n",
              "      <td>492.000000</td>\n",
              "      <td>492.000000</td>\n",
              "      <td>492.000000</td>\n",
              "      <td>492.000000</td>\n",
              "      <td>492.000000</td>\n",
              "      <td>492.000000</td>\n",
              "      <td>492.000000</td>\n",
              "      <td>492.000000</td>\n",
              "      <td>492.000000</td>\n",
              "      <td>492.000000</td>\n",
              "      <td>492.000000</td>\n",
              "      <td>492.000000</td>\n",
              "      <td>492.000000</td>\n",
              "      <td>492.000000</td>\n",
              "      <td>492.000000</td>\n",
              "      <td>492.000000</td>\n",
              "      <td>492.000000</td>\n",
              "      <td>492.000000</td>\n",
              "      <td>492.000000</td>\n",
              "      <td>492.000000</td>\n",
              "      <td>492.000000</td>\n",
              "      <td>492.000000</td>\n",
              "      <td>492.000000</td>\n",
              "      <td>492.000000</td>\n",
              "      <td>492.000000</td>\n",
              "      <td>492.000000</td>\n",
              "      <td>492.000000</td>\n",
              "      <td>492.000000</td>\n",
              "      <td>492.000000</td>\n",
              "      <td>492.000000</td>\n",
              "      <td>492.0</td>\n",
              "    </tr>\n",
              "    <tr>\n",
              "      <th>mean</th>\n",
              "      <td>80746.806911</td>\n",
              "      <td>-4.771948</td>\n",
              "      <td>3.623778</td>\n",
              "      <td>-7.033281</td>\n",
              "      <td>4.542029</td>\n",
              "      <td>-3.151225</td>\n",
              "      <td>-1.397737</td>\n",
              "      <td>-5.568731</td>\n",
              "      <td>0.570636</td>\n",
              "      <td>-2.581123</td>\n",
              "      <td>-5.676883</td>\n",
              "      <td>3.800173</td>\n",
              "      <td>-6.259393</td>\n",
              "      <td>-0.109334</td>\n",
              "      <td>-6.971723</td>\n",
              "      <td>-0.092929</td>\n",
              "      <td>-4.139946</td>\n",
              "      <td>-6.665836</td>\n",
              "      <td>-2.246308</td>\n",
              "      <td>0.680659</td>\n",
              "      <td>0.372319</td>\n",
              "      <td>0.713588</td>\n",
              "      <td>0.014049</td>\n",
              "      <td>-0.040308</td>\n",
              "      <td>-0.105130</td>\n",
              "      <td>0.041449</td>\n",
              "      <td>0.051648</td>\n",
              "      <td>0.170575</td>\n",
              "      <td>0.075667</td>\n",
              "      <td>122.211321</td>\n",
              "      <td>1.0</td>\n",
              "    </tr>\n",
              "    <tr>\n",
              "      <th>std</th>\n",
              "      <td>47835.365138</td>\n",
              "      <td>6.783687</td>\n",
              "      <td>4.291216</td>\n",
              "      <td>7.110937</td>\n",
              "      <td>2.873318</td>\n",
              "      <td>5.372468</td>\n",
              "      <td>1.858124</td>\n",
              "      <td>7.206773</td>\n",
              "      <td>6.797831</td>\n",
              "      <td>2.500896</td>\n",
              "      <td>4.897341</td>\n",
              "      <td>2.678605</td>\n",
              "      <td>4.654458</td>\n",
              "      <td>1.104518</td>\n",
              "      <td>4.278940</td>\n",
              "      <td>1.049915</td>\n",
              "      <td>3.865035</td>\n",
              "      <td>6.970618</td>\n",
              "      <td>2.899366</td>\n",
              "      <td>1.539853</td>\n",
              "      <td>1.346635</td>\n",
              "      <td>3.869304</td>\n",
              "      <td>1.494602</td>\n",
              "      <td>1.579642</td>\n",
              "      <td>0.515577</td>\n",
              "      <td>0.797205</td>\n",
              "      <td>0.471679</td>\n",
              "      <td>1.376766</td>\n",
              "      <td>0.547291</td>\n",
              "      <td>256.683288</td>\n",
              "      <td>0.0</td>\n",
              "    </tr>\n",
              "    <tr>\n",
              "      <th>min</th>\n",
              "      <td>406.000000</td>\n",
              "      <td>-30.552380</td>\n",
              "      <td>-8.402154</td>\n",
              "      <td>-31.103685</td>\n",
              "      <td>-1.313275</td>\n",
              "      <td>-22.105532</td>\n",
              "      <td>-6.406267</td>\n",
              "      <td>-43.557242</td>\n",
              "      <td>-41.044261</td>\n",
              "      <td>-13.434066</td>\n",
              "      <td>-24.588262</td>\n",
              "      <td>-1.702228</td>\n",
              "      <td>-18.683715</td>\n",
              "      <td>-3.127795</td>\n",
              "      <td>-19.214325</td>\n",
              "      <td>-4.498945</td>\n",
              "      <td>-14.129855</td>\n",
              "      <td>-25.162799</td>\n",
              "      <td>-9.498746</td>\n",
              "      <td>-3.681904</td>\n",
              "      <td>-4.128186</td>\n",
              "      <td>-22.797604</td>\n",
              "      <td>-8.887017</td>\n",
              "      <td>-19.254328</td>\n",
              "      <td>-2.028024</td>\n",
              "      <td>-4.781606</td>\n",
              "      <td>-1.152671</td>\n",
              "      <td>-7.263482</td>\n",
              "      <td>-1.869290</td>\n",
              "      <td>0.000000</td>\n",
              "      <td>1.0</td>\n",
              "    </tr>\n",
              "    <tr>\n",
              "      <th>25%</th>\n",
              "      <td>41241.500000</td>\n",
              "      <td>-6.036063</td>\n",
              "      <td>1.188226</td>\n",
              "      <td>-8.643489</td>\n",
              "      <td>2.373050</td>\n",
              "      <td>-4.792835</td>\n",
              "      <td>-2.501511</td>\n",
              "      <td>-7.965295</td>\n",
              "      <td>-0.195336</td>\n",
              "      <td>-3.872383</td>\n",
              "      <td>-7.756698</td>\n",
              "      <td>1.973397</td>\n",
              "      <td>-8.688177</td>\n",
              "      <td>-0.979117</td>\n",
              "      <td>-9.692723</td>\n",
              "      <td>-0.643539</td>\n",
              "      <td>-6.562915</td>\n",
              "      <td>-11.945057</td>\n",
              "      <td>-4.664576</td>\n",
              "      <td>-0.299423</td>\n",
              "      <td>-0.171760</td>\n",
              "      <td>0.041787</td>\n",
              "      <td>-0.533764</td>\n",
              "      <td>-0.342175</td>\n",
              "      <td>-0.436809</td>\n",
              "      <td>-0.314348</td>\n",
              "      <td>-0.259416</td>\n",
              "      <td>-0.020025</td>\n",
              "      <td>-0.108868</td>\n",
              "      <td>1.000000</td>\n",
              "      <td>1.0</td>\n",
              "    </tr>\n",
              "    <tr>\n",
              "      <th>50%</th>\n",
              "      <td>75568.500000</td>\n",
              "      <td>-2.342497</td>\n",
              "      <td>2.717869</td>\n",
              "      <td>-5.075257</td>\n",
              "      <td>4.177147</td>\n",
              "      <td>-1.522962</td>\n",
              "      <td>-1.424616</td>\n",
              "      <td>-3.034402</td>\n",
              "      <td>0.621508</td>\n",
              "      <td>-2.208768</td>\n",
              "      <td>-4.578825</td>\n",
              "      <td>3.586218</td>\n",
              "      <td>-5.502530</td>\n",
              "      <td>-0.065566</td>\n",
              "      <td>-6.729720</td>\n",
              "      <td>-0.057227</td>\n",
              "      <td>-3.549795</td>\n",
              "      <td>-5.302949</td>\n",
              "      <td>-1.664346</td>\n",
              "      <td>0.646807</td>\n",
              "      <td>0.284693</td>\n",
              "      <td>0.592146</td>\n",
              "      <td>0.048434</td>\n",
              "      <td>-0.073135</td>\n",
              "      <td>-0.060795</td>\n",
              "      <td>0.088371</td>\n",
              "      <td>0.004321</td>\n",
              "      <td>0.394926</td>\n",
              "      <td>0.146344</td>\n",
              "      <td>9.250000</td>\n",
              "      <td>1.0</td>\n",
              "    </tr>\n",
              "    <tr>\n",
              "      <th>75%</th>\n",
              "      <td>128483.000000</td>\n",
              "      <td>-0.419200</td>\n",
              "      <td>4.971257</td>\n",
              "      <td>-2.276185</td>\n",
              "      <td>6.348729</td>\n",
              "      <td>0.214562</td>\n",
              "      <td>-0.413216</td>\n",
              "      <td>-0.945954</td>\n",
              "      <td>1.764879</td>\n",
              "      <td>-0.787850</td>\n",
              "      <td>-2.614184</td>\n",
              "      <td>5.307078</td>\n",
              "      <td>-2.974088</td>\n",
              "      <td>0.672964</td>\n",
              "      <td>-4.282821</td>\n",
              "      <td>0.609189</td>\n",
              "      <td>-1.226043</td>\n",
              "      <td>-1.341940</td>\n",
              "      <td>0.091772</td>\n",
              "      <td>1.649318</td>\n",
              "      <td>0.822445</td>\n",
              "      <td>1.244611</td>\n",
              "      <td>0.617474</td>\n",
              "      <td>0.308378</td>\n",
              "      <td>0.285328</td>\n",
              "      <td>0.456515</td>\n",
              "      <td>0.396733</td>\n",
              "      <td>0.826029</td>\n",
              "      <td>0.381152</td>\n",
              "      <td>105.890000</td>\n",
              "      <td>1.0</td>\n",
              "    </tr>\n",
              "    <tr>\n",
              "      <th>max</th>\n",
              "      <td>170348.000000</td>\n",
              "      <td>2.132386</td>\n",
              "      <td>22.057729</td>\n",
              "      <td>2.250210</td>\n",
              "      <td>12.114672</td>\n",
              "      <td>11.095089</td>\n",
              "      <td>6.474115</td>\n",
              "      <td>5.802537</td>\n",
              "      <td>20.007208</td>\n",
              "      <td>3.353525</td>\n",
              "      <td>4.031435</td>\n",
              "      <td>12.018913</td>\n",
              "      <td>1.375941</td>\n",
              "      <td>2.815440</td>\n",
              "      <td>3.442422</td>\n",
              "      <td>2.471358</td>\n",
              "      <td>3.139656</td>\n",
              "      <td>6.739384</td>\n",
              "      <td>3.790316</td>\n",
              "      <td>5.228342</td>\n",
              "      <td>11.059004</td>\n",
              "      <td>27.202839</td>\n",
              "      <td>8.361985</td>\n",
              "      <td>5.466230</td>\n",
              "      <td>1.091435</td>\n",
              "      <td>2.208209</td>\n",
              "      <td>2.745261</td>\n",
              "      <td>3.052358</td>\n",
              "      <td>1.779364</td>\n",
              "      <td>2125.870000</td>\n",
              "      <td>1.0</td>\n",
              "    </tr>\n",
              "  </tbody>\n",
              "</table>\n",
              "</div>"
            ],
            "text/plain": [
              "                Time          V1          V2  ...         V28       Amount  Class\n",
              "count     492.000000  492.000000  492.000000  ...  492.000000   492.000000  492.0\n",
              "mean    80746.806911   -4.771948    3.623778  ...    0.075667   122.211321    1.0\n",
              "std     47835.365138    6.783687    4.291216  ...    0.547291   256.683288    0.0\n",
              "min       406.000000  -30.552380   -8.402154  ...   -1.869290     0.000000    1.0\n",
              "25%     41241.500000   -6.036063    1.188226  ...   -0.108868     1.000000    1.0\n",
              "50%     75568.500000   -2.342497    2.717869  ...    0.146344     9.250000    1.0\n",
              "75%    128483.000000   -0.419200    4.971257  ...    0.381152   105.890000    1.0\n",
              "max    170348.000000    2.132386   22.057729  ...    1.779364  2125.870000    1.0\n",
              "\n",
              "[8 rows x 31 columns]"
            ]
          },
          "metadata": {
            "tags": []
          },
          "execution_count": 5
        }
      ]
    },
    {
      "cell_type": "code",
      "metadata": {
        "id": "M8kcBcatvZBA",
        "outputId": "da39129e-e34c-429e-882d-e5c73770d36e",
        "colab": {
          "base_uri": "https://localhost:8080/",
          "height": 317
        }
      },
      "source": [
        "#Description of the non-fraudulen cases\n",
        "df[df['Class'] == 0].describe()"
      ],
      "execution_count": null,
      "outputs": [
        {
          "output_type": "execute_result",
          "data": {
            "text/html": [
              "<div>\n",
              "<style scoped>\n",
              "    .dataframe tbody tr th:only-of-type {\n",
              "        vertical-align: middle;\n",
              "    }\n",
              "\n",
              "    .dataframe tbody tr th {\n",
              "        vertical-align: top;\n",
              "    }\n",
              "\n",
              "    .dataframe thead th {\n",
              "        text-align: right;\n",
              "    }\n",
              "</style>\n",
              "<table border=\"1\" class=\"dataframe\">\n",
              "  <thead>\n",
              "    <tr style=\"text-align: right;\">\n",
              "      <th></th>\n",
              "      <th>Time</th>\n",
              "      <th>V1</th>\n",
              "      <th>V2</th>\n",
              "      <th>V3</th>\n",
              "      <th>V4</th>\n",
              "      <th>V5</th>\n",
              "      <th>V6</th>\n",
              "      <th>V7</th>\n",
              "      <th>V8</th>\n",
              "      <th>V9</th>\n",
              "      <th>V10</th>\n",
              "      <th>V11</th>\n",
              "      <th>V12</th>\n",
              "      <th>V13</th>\n",
              "      <th>V14</th>\n",
              "      <th>V15</th>\n",
              "      <th>V16</th>\n",
              "      <th>V17</th>\n",
              "      <th>V18</th>\n",
              "      <th>V19</th>\n",
              "      <th>V20</th>\n",
              "      <th>V21</th>\n",
              "      <th>V22</th>\n",
              "      <th>V23</th>\n",
              "      <th>V24</th>\n",
              "      <th>V25</th>\n",
              "      <th>V26</th>\n",
              "      <th>V27</th>\n",
              "      <th>V28</th>\n",
              "      <th>Amount</th>\n",
              "      <th>Class</th>\n",
              "    </tr>\n",
              "  </thead>\n",
              "  <tbody>\n",
              "    <tr>\n",
              "      <th>count</th>\n",
              "      <td>284315.000000</td>\n",
              "      <td>284315.000000</td>\n",
              "      <td>284315.000000</td>\n",
              "      <td>284315.000000</td>\n",
              "      <td>284315.000000</td>\n",
              "      <td>284315.000000</td>\n",
              "      <td>284315.000000</td>\n",
              "      <td>284315.000000</td>\n",
              "      <td>284315.000000</td>\n",
              "      <td>284315.000000</td>\n",
              "      <td>284315.000000</td>\n",
              "      <td>284315.000000</td>\n",
              "      <td>284315.000000</td>\n",
              "      <td>284315.000000</td>\n",
              "      <td>284315.000000</td>\n",
              "      <td>284315.000000</td>\n",
              "      <td>284315.000000</td>\n",
              "      <td>284315.000000</td>\n",
              "      <td>284315.000000</td>\n",
              "      <td>284315.000000</td>\n",
              "      <td>284315.000000</td>\n",
              "      <td>284315.000000</td>\n",
              "      <td>284315.000000</td>\n",
              "      <td>284315.000000</td>\n",
              "      <td>284315.000000</td>\n",
              "      <td>284315.000000</td>\n",
              "      <td>284315.000000</td>\n",
              "      <td>284315.000000</td>\n",
              "      <td>284315.000000</td>\n",
              "      <td>284315.000000</td>\n",
              "      <td>284315.0</td>\n",
              "    </tr>\n",
              "    <tr>\n",
              "      <th>mean</th>\n",
              "      <td>94838.202258</td>\n",
              "      <td>0.008258</td>\n",
              "      <td>-0.006271</td>\n",
              "      <td>0.012171</td>\n",
              "      <td>-0.007860</td>\n",
              "      <td>0.005453</td>\n",
              "      <td>0.002419</td>\n",
              "      <td>0.009637</td>\n",
              "      <td>-0.000987</td>\n",
              "      <td>0.004467</td>\n",
              "      <td>0.009824</td>\n",
              "      <td>-0.006576</td>\n",
              "      <td>0.010832</td>\n",
              "      <td>0.000189</td>\n",
              "      <td>0.012064</td>\n",
              "      <td>0.000161</td>\n",
              "      <td>0.007164</td>\n",
              "      <td>0.011535</td>\n",
              "      <td>0.003887</td>\n",
              "      <td>-0.001178</td>\n",
              "      <td>-0.000644</td>\n",
              "      <td>-0.001235</td>\n",
              "      <td>-0.000024</td>\n",
              "      <td>0.000070</td>\n",
              "      <td>0.000182</td>\n",
              "      <td>-0.000072</td>\n",
              "      <td>-0.000089</td>\n",
              "      <td>-0.000295</td>\n",
              "      <td>-0.000131</td>\n",
              "      <td>88.291022</td>\n",
              "      <td>0.0</td>\n",
              "    </tr>\n",
              "    <tr>\n",
              "      <th>std</th>\n",
              "      <td>47484.015786</td>\n",
              "      <td>1.929814</td>\n",
              "      <td>1.636146</td>\n",
              "      <td>1.459429</td>\n",
              "      <td>1.399333</td>\n",
              "      <td>1.356952</td>\n",
              "      <td>1.329913</td>\n",
              "      <td>1.178812</td>\n",
              "      <td>1.161283</td>\n",
              "      <td>1.089372</td>\n",
              "      <td>1.044204</td>\n",
              "      <td>1.003112</td>\n",
              "      <td>0.945939</td>\n",
              "      <td>0.995067</td>\n",
              "      <td>0.897007</td>\n",
              "      <td>0.915060</td>\n",
              "      <td>0.844772</td>\n",
              "      <td>0.749457</td>\n",
              "      <td>0.824919</td>\n",
              "      <td>0.811733</td>\n",
              "      <td>0.769404</td>\n",
              "      <td>0.716743</td>\n",
              "      <td>0.723668</td>\n",
              "      <td>0.621541</td>\n",
              "      <td>0.605776</td>\n",
              "      <td>0.520673</td>\n",
              "      <td>0.482241</td>\n",
              "      <td>0.399847</td>\n",
              "      <td>0.329570</td>\n",
              "      <td>250.105092</td>\n",
              "      <td>0.0</td>\n",
              "    </tr>\n",
              "    <tr>\n",
              "      <th>min</th>\n",
              "      <td>0.000000</td>\n",
              "      <td>-56.407510</td>\n",
              "      <td>-72.715728</td>\n",
              "      <td>-48.325589</td>\n",
              "      <td>-5.683171</td>\n",
              "      <td>-113.743307</td>\n",
              "      <td>-26.160506</td>\n",
              "      <td>-31.764946</td>\n",
              "      <td>-73.216718</td>\n",
              "      <td>-6.290730</td>\n",
              "      <td>-14.741096</td>\n",
              "      <td>-4.797473</td>\n",
              "      <td>-15.144988</td>\n",
              "      <td>-5.791881</td>\n",
              "      <td>-18.392091</td>\n",
              "      <td>-4.391307</td>\n",
              "      <td>-10.115560</td>\n",
              "      <td>-17.098444</td>\n",
              "      <td>-5.366660</td>\n",
              "      <td>-7.213527</td>\n",
              "      <td>-54.497720</td>\n",
              "      <td>-34.830382</td>\n",
              "      <td>-10.933144</td>\n",
              "      <td>-44.807735</td>\n",
              "      <td>-2.836627</td>\n",
              "      <td>-10.295397</td>\n",
              "      <td>-2.604551</td>\n",
              "      <td>-22.565679</td>\n",
              "      <td>-15.430084</td>\n",
              "      <td>0.000000</td>\n",
              "      <td>0.0</td>\n",
              "    </tr>\n",
              "    <tr>\n",
              "      <th>25%</th>\n",
              "      <td>54230.000000</td>\n",
              "      <td>-0.917544</td>\n",
              "      <td>-0.599473</td>\n",
              "      <td>-0.884541</td>\n",
              "      <td>-0.850077</td>\n",
              "      <td>-0.689398</td>\n",
              "      <td>-0.766847</td>\n",
              "      <td>-0.551442</td>\n",
              "      <td>-0.208633</td>\n",
              "      <td>-0.640412</td>\n",
              "      <td>-0.532880</td>\n",
              "      <td>-0.763447</td>\n",
              "      <td>-0.402102</td>\n",
              "      <td>-0.648067</td>\n",
              "      <td>-0.422453</td>\n",
              "      <td>-0.582812</td>\n",
              "      <td>-0.465543</td>\n",
              "      <td>-0.482644</td>\n",
              "      <td>-0.497414</td>\n",
              "      <td>-0.456366</td>\n",
              "      <td>-0.211764</td>\n",
              "      <td>-0.228509</td>\n",
              "      <td>-0.542403</td>\n",
              "      <td>-0.161702</td>\n",
              "      <td>-0.354425</td>\n",
              "      <td>-0.317145</td>\n",
              "      <td>-0.327074</td>\n",
              "      <td>-0.070852</td>\n",
              "      <td>-0.052950</td>\n",
              "      <td>5.650000</td>\n",
              "      <td>0.0</td>\n",
              "    </tr>\n",
              "    <tr>\n",
              "      <th>50%</th>\n",
              "      <td>84711.000000</td>\n",
              "      <td>0.020023</td>\n",
              "      <td>0.064070</td>\n",
              "      <td>0.182158</td>\n",
              "      <td>-0.022405</td>\n",
              "      <td>-0.053457</td>\n",
              "      <td>-0.273123</td>\n",
              "      <td>0.041138</td>\n",
              "      <td>0.022041</td>\n",
              "      <td>-0.049964</td>\n",
              "      <td>-0.091872</td>\n",
              "      <td>-0.034923</td>\n",
              "      <td>0.141679</td>\n",
              "      <td>-0.013547</td>\n",
              "      <td>0.051947</td>\n",
              "      <td>0.048294</td>\n",
              "      <td>0.067377</td>\n",
              "      <td>-0.064833</td>\n",
              "      <td>-0.002787</td>\n",
              "      <td>0.003117</td>\n",
              "      <td>-0.062646</td>\n",
              "      <td>-0.029821</td>\n",
              "      <td>0.006736</td>\n",
              "      <td>-0.011147</td>\n",
              "      <td>0.041082</td>\n",
              "      <td>0.016417</td>\n",
              "      <td>-0.052227</td>\n",
              "      <td>0.001230</td>\n",
              "      <td>0.011199</td>\n",
              "      <td>22.000000</td>\n",
              "      <td>0.0</td>\n",
              "    </tr>\n",
              "    <tr>\n",
              "      <th>75%</th>\n",
              "      <td>139333.000000</td>\n",
              "      <td>1.316218</td>\n",
              "      <td>0.800446</td>\n",
              "      <td>1.028372</td>\n",
              "      <td>0.737624</td>\n",
              "      <td>0.612181</td>\n",
              "      <td>0.399619</td>\n",
              "      <td>0.571019</td>\n",
              "      <td>0.326200</td>\n",
              "      <td>0.598230</td>\n",
              "      <td>0.455135</td>\n",
              "      <td>0.736362</td>\n",
              "      <td>0.619207</td>\n",
              "      <td>0.662492</td>\n",
              "      <td>0.494104</td>\n",
              "      <td>0.648842</td>\n",
              "      <td>0.523738</td>\n",
              "      <td>0.399922</td>\n",
              "      <td>0.501103</td>\n",
              "      <td>0.457499</td>\n",
              "      <td>0.132401</td>\n",
              "      <td>0.185626</td>\n",
              "      <td>0.528407</td>\n",
              "      <td>0.147522</td>\n",
              "      <td>0.439869</td>\n",
              "      <td>0.350594</td>\n",
              "      <td>0.240671</td>\n",
              "      <td>0.090573</td>\n",
              "      <td>0.077962</td>\n",
              "      <td>77.050000</td>\n",
              "      <td>0.0</td>\n",
              "    </tr>\n",
              "    <tr>\n",
              "      <th>max</th>\n",
              "      <td>172792.000000</td>\n",
              "      <td>2.454930</td>\n",
              "      <td>18.902453</td>\n",
              "      <td>9.382558</td>\n",
              "      <td>16.875344</td>\n",
              "      <td>34.801666</td>\n",
              "      <td>73.301626</td>\n",
              "      <td>120.589494</td>\n",
              "      <td>18.709255</td>\n",
              "      <td>15.594995</td>\n",
              "      <td>23.745136</td>\n",
              "      <td>10.002190</td>\n",
              "      <td>7.848392</td>\n",
              "      <td>7.126883</td>\n",
              "      <td>10.526766</td>\n",
              "      <td>8.877742</td>\n",
              "      <td>17.315112</td>\n",
              "      <td>9.253526</td>\n",
              "      <td>5.041069</td>\n",
              "      <td>5.591971</td>\n",
              "      <td>39.420904</td>\n",
              "      <td>22.614889</td>\n",
              "      <td>10.503090</td>\n",
              "      <td>22.528412</td>\n",
              "      <td>4.584549</td>\n",
              "      <td>7.519589</td>\n",
              "      <td>3.517346</td>\n",
              "      <td>31.612198</td>\n",
              "      <td>33.847808</td>\n",
              "      <td>25691.160000</td>\n",
              "      <td>0.0</td>\n",
              "    </tr>\n",
              "  </tbody>\n",
              "</table>\n",
              "</div>"
            ],
            "text/plain": [
              "                Time             V1  ...         Amount     Class\n",
              "count  284315.000000  284315.000000  ...  284315.000000  284315.0\n",
              "mean    94838.202258       0.008258  ...      88.291022       0.0\n",
              "std     47484.015786       1.929814  ...     250.105092       0.0\n",
              "min         0.000000     -56.407510  ...       0.000000       0.0\n",
              "25%     54230.000000      -0.917544  ...       5.650000       0.0\n",
              "50%     84711.000000       0.020023  ...      22.000000       0.0\n",
              "75%    139333.000000       1.316218  ...      77.050000       0.0\n",
              "max    172792.000000       2.454930  ...   25691.160000       0.0\n",
              "\n",
              "[8 rows x 31 columns]"
            ]
          },
          "metadata": {
            "tags": []
          },
          "execution_count": 6
        }
      ]
    },
    {
      "cell_type": "code",
      "metadata": {
        "id": "UeDkp6krvZBF",
        "outputId": "9b59fd03-c918-4020-9a68-2ffd7013815b",
        "colab": {
          "base_uri": "https://localhost:8080/",
          "height": 561
        }
      },
      "source": [
        "#Variance check before amount scaling\n",
        "print(df.var())"
      ],
      "execution_count": null,
      "outputs": [
        {
          "output_type": "stream",
          "text": [
            "Time      2.255124e+09\n",
            "V1        3.836489e+00\n",
            "V2        2.726820e+00\n",
            "V3        2.299029e+00\n",
            "V4        2.004684e+00\n",
            "V5        1.905081e+00\n",
            "V6        1.774946e+00\n",
            "V7        1.530401e+00\n",
            "V8        1.426479e+00\n",
            "V9        1.206992e+00\n",
            "V10       1.185594e+00\n",
            "V11       1.041855e+00\n",
            "V12       9.984034e-01\n",
            "V13       9.905708e-01\n",
            "V14       9.189055e-01\n",
            "V15       8.378034e-01\n",
            "V16       7.678191e-01\n",
            "V17       7.213734e-01\n",
            "V18       7.025394e-01\n",
            "V19       6.626619e-01\n",
            "V20       5.943254e-01\n",
            "V21       5.395255e-01\n",
            "V22       5.266428e-01\n",
            "V23       3.899507e-01\n",
            "V24       3.668084e-01\n",
            "V25       2.717308e-01\n",
            "V26       2.325429e-01\n",
            "V27       1.629192e-01\n",
            "V28       1.089550e-01\n",
            "Amount    6.256007e+04\n",
            "Class     1.724507e-03\n",
            "dtype: float64\n"
          ],
          "name": "stdout"
        }
      ]
    },
    {
      "cell_type": "code",
      "metadata": {
        "id": "HO1HjMSAvZBJ",
        "outputId": "05bbcaab-1e61-42c7-f0df-eeae8337c258",
        "colab": {
          "base_uri": "https://localhost:8080/",
          "height": 627
        }
      },
      "source": [
        "#Correlation checking among the features and target value (Class) before amount scaling\n",
        "df.corrwith(df.Class).plot.bar(\n",
        "        figsize = (20, 10), title = 'Correlation with Class before Amount scaling', fontsize = 20,\n",
        "        rot = 45, grid = True)"
      ],
      "execution_count": null,
      "outputs": [
        {
          "output_type": "execute_result",
          "data": {
            "text/plain": [
              "<matplotlib.axes._subplots.AxesSubplot at 0x7fccc9fc6470>"
            ]
          },
          "metadata": {
            "tags": []
          },
          "execution_count": 8
        },
        {
          "output_type": "display_data",
          "data": {
            "image/png": "[encoded data removed]",
            "text/plain": [
              "<Figure size 1440x720 with 1 Axes>"
            ]
          },
          "metadata": {
            "tags": [],
            "needs_background": "light"
          }
        }
      ]
    },
    {
      "cell_type": "code",
      "metadata": {
        "id": "uyG1N1HNvZBR",
        "outputId": "91c66d69-8ff6-443a-b130-b3b07871288a",
        "colab": {
          "base_uri": "https://localhost:8080/",
          "height": 68
        }
      },
      "source": [
        "#Checking the distribution of the class\n",
        "df['Class'].value_counts()"
      ],
      "execution_count": null,
      "outputs": [
        {
          "output_type": "execute_result",
          "data": {
            "text/plain": [
              "0    284315\n",
              "1       492\n",
              "Name: Class, dtype: int64"
            ]
          },
          "metadata": {
            "tags": []
          },
          "execution_count": 10
        }
      ]
    },
    {
      "cell_type": "code",
      "metadata": {
        "id": "9_JXS3cXvZBU",
        "outputId": "1b36e97c-a5ed-4f29-9856-8ed075f22e46",
        "colab": {
          "base_uri": "https://localhost:8080/",
          "height": 119
        }
      },
      "source": [
        "# Count the occurrences of fraud and no fraud and print them\n",
        "occ = df['Class'].value_counts()\n",
        "print(occ)\n",
        "\n",
        "# Print the ratio of fraud cases\n",
        "print(occ / len(df))"
      ],
      "execution_count": null,
      "outputs": [
        {
          "output_type": "stream",
          "text": [
            "0    284315\n",
            "1       492\n",
            "Name: Class, dtype: int64\n",
            "0    0.998273\n",
            "1    0.001727\n",
            "Name: Class, dtype: float64\n"
          ],
          "name": "stdout"
        }
      ]
    },
    {
      "cell_type": "code",
      "metadata": {
        "id": "2khtoA56vZBi",
        "outputId": "f8e0170e-7c59-4be5-f502-669e469ea222",
        "colab": {
          "base_uri": "https://localhost:8080/",
          "height": 224
        }
      },
      "source": [
        "#Amount scaling\n",
        "from sklearn.preprocessing import StandardScaler\n",
        "ss = StandardScaler()\n",
        "df['Amount'] = ss.fit_transform(df['Amount'].values.reshape(-1,1))\n",
        "df.drop(['Time'], axis=1, inplace=True)\n",
        "df.head()"
      ],
      "execution_count": null,
      "outputs": [
        {
          "output_type": "execute_result",
          "data": {
            "text/html": [
              "<div>\n",
              "<style scoped>\n",
              "    .dataframe tbody tr th:only-of-type {\n",
              "        vertical-align: middle;\n",
              "    }\n",
              "\n",
              "    .dataframe tbody tr th {\n",
              "        vertical-align: top;\n",
              "    }\n",
              "\n",
              "    .dataframe thead th {\n",
              "        text-align: right;\n",
              "    }\n",
              "</style>\n",
              "<table border=\"1\" class=\"dataframe\">\n",
              "  <thead>\n",
              "    <tr style=\"text-align: right;\">\n",
              "      <th></th>\n",
              "      <th>V1</th>\n",
              "      <th>V2</th>\n",
              "      <th>V3</th>\n",
              "      <th>V4</th>\n",
              "      <th>V5</th>\n",
              "      <th>V6</th>\n",
              "      <th>V7</th>\n",
              "      <th>V8</th>\n",
              "      <th>V9</th>\n",
              "      <th>V10</th>\n",
              "      <th>V11</th>\n",
              "      <th>V12</th>\n",
              "      <th>V13</th>\n",
              "      <th>V14</th>\n",
              "      <th>V15</th>\n",
              "      <th>V16</th>\n",
              "      <th>V17</th>\n",
              "      <th>V18</th>\n",
              "      <th>V19</th>\n",
              "      <th>V20</th>\n",
              "      <th>V21</th>\n",
              "      <th>V22</th>\n",
              "      <th>V23</th>\n",
              "      <th>V24</th>\n",
              "      <th>V25</th>\n",
              "      <th>V26</th>\n",
              "      <th>V27</th>\n",
              "      <th>V28</th>\n",
              "      <th>Amount</th>\n",
              "      <th>Class</th>\n",
              "    </tr>\n",
              "  </thead>\n",
              "  <tbody>\n",
              "    <tr>\n",
              "      <th>0</th>\n",
              "      <td>-1.359807</td>\n",
              "      <td>-0.072781</td>\n",
              "      <td>2.536347</td>\n",
              "      <td>1.378155</td>\n",
              "      <td>-0.338321</td>\n",
              "      <td>0.462388</td>\n",
              "      <td>0.239599</td>\n",
              "      <td>0.098698</td>\n",
              "      <td>0.363787</td>\n",
              "      <td>0.090794</td>\n",
              "      <td>-0.551600</td>\n",
              "      <td>-0.617801</td>\n",
              "      <td>-0.991390</td>\n",
              "      <td>-0.311169</td>\n",
              "      <td>1.468177</td>\n",
              "      <td>-0.470401</td>\n",
              "      <td>0.207971</td>\n",
              "      <td>0.025791</td>\n",
              "      <td>0.403993</td>\n",
              "      <td>0.251412</td>\n",
              "      <td>-0.018307</td>\n",
              "      <td>0.277838</td>\n",
              "      <td>-0.110474</td>\n",
              "      <td>0.066928</td>\n",
              "      <td>0.128539</td>\n",
              "      <td>-0.189115</td>\n",
              "      <td>0.133558</td>\n",
              "      <td>-0.021053</td>\n",
              "      <td>0.244964</td>\n",
              "      <td>0</td>\n",
              "    </tr>\n",
              "    <tr>\n",
              "      <th>1</th>\n",
              "      <td>1.191857</td>\n",
              "      <td>0.266151</td>\n",
              "      <td>0.166480</td>\n",
              "      <td>0.448154</td>\n",
              "      <td>0.060018</td>\n",
              "      <td>-0.082361</td>\n",
              "      <td>-0.078803</td>\n",
              "      <td>0.085102</td>\n",
              "      <td>-0.255425</td>\n",
              "      <td>-0.166974</td>\n",
              "      <td>1.612727</td>\n",
              "      <td>1.065235</td>\n",
              "      <td>0.489095</td>\n",
              "      <td>-0.143772</td>\n",
              "      <td>0.635558</td>\n",
              "      <td>0.463917</td>\n",
              "      <td>-0.114805</td>\n",
              "      <td>-0.183361</td>\n",
              "      <td>-0.145783</td>\n",
              "      <td>-0.069083</td>\n",
              "      <td>-0.225775</td>\n",
              "      <td>-0.638672</td>\n",
              "      <td>0.101288</td>\n",
              "      <td>-0.339846</td>\n",
              "      <td>0.167170</td>\n",
              "      <td>0.125895</td>\n",
              "      <td>-0.008983</td>\n",
              "      <td>0.014724</td>\n",
              "      <td>-0.342475</td>\n",
              "      <td>0</td>\n",
              "    </tr>\n",
              "    <tr>\n",
              "      <th>2</th>\n",
              "      <td>-1.358354</td>\n",
              "      <td>-1.340163</td>\n",
              "      <td>1.773209</td>\n",
              "      <td>0.379780</td>\n",
              "      <td>-0.503198</td>\n",
              "      <td>1.800499</td>\n",
              "      <td>0.791461</td>\n",
              "      <td>0.247676</td>\n",
              "      <td>-1.514654</td>\n",
              "      <td>0.207643</td>\n",
              "      <td>0.624501</td>\n",
              "      <td>0.066084</td>\n",
              "      <td>0.717293</td>\n",
              "      <td>-0.165946</td>\n",
              "      <td>2.345865</td>\n",
              "      <td>-2.890083</td>\n",
              "      <td>1.109969</td>\n",
              "      <td>-0.121359</td>\n",
              "      <td>-2.261857</td>\n",
              "      <td>0.524980</td>\n",
              "      <td>0.247998</td>\n",
              "      <td>0.771679</td>\n",
              "      <td>0.909412</td>\n",
              "      <td>-0.689281</td>\n",
              "      <td>-0.327642</td>\n",
              "      <td>-0.139097</td>\n",
              "      <td>-0.055353</td>\n",
              "      <td>-0.059752</td>\n",
              "      <td>1.160686</td>\n",
              "      <td>0</td>\n",
              "    </tr>\n",
              "    <tr>\n",
              "      <th>3</th>\n",
              "      <td>-0.966272</td>\n",
              "      <td>-0.185226</td>\n",
              "      <td>1.792993</td>\n",
              "      <td>-0.863291</td>\n",
              "      <td>-0.010309</td>\n",
              "      <td>1.247203</td>\n",
              "      <td>0.237609</td>\n",
              "      <td>0.377436</td>\n",
              "      <td>-1.387024</td>\n",
              "      <td>-0.054952</td>\n",
              "      <td>-0.226487</td>\n",
              "      <td>0.178228</td>\n",
              "      <td>0.507757</td>\n",
              "      <td>-0.287924</td>\n",
              "      <td>-0.631418</td>\n",
              "      <td>-1.059647</td>\n",
              "      <td>-0.684093</td>\n",
              "      <td>1.965775</td>\n",
              "      <td>-1.232622</td>\n",
              "      <td>-0.208038</td>\n",
              "      <td>-0.108300</td>\n",
              "      <td>0.005274</td>\n",
              "      <td>-0.190321</td>\n",
              "      <td>-1.175575</td>\n",
              "      <td>0.647376</td>\n",
              "      <td>-0.221929</td>\n",
              "      <td>0.062723</td>\n",
              "      <td>0.061458</td>\n",
              "      <td>0.140534</td>\n",
              "      <td>0</td>\n",
              "    </tr>\n",
              "    <tr>\n",
              "      <th>4</th>\n",
              "      <td>-1.158233</td>\n",
              "      <td>0.877737</td>\n",
              "      <td>1.548718</td>\n",
              "      <td>0.403034</td>\n",
              "      <td>-0.407193</td>\n",
              "      <td>0.095921</td>\n",
              "      <td>0.592941</td>\n",
              "      <td>-0.270533</td>\n",
              "      <td>0.817739</td>\n",
              "      <td>0.753074</td>\n",
              "      <td>-0.822843</td>\n",
              "      <td>0.538196</td>\n",
              "      <td>1.345852</td>\n",
              "      <td>-1.119670</td>\n",
              "      <td>0.175121</td>\n",
              "      <td>-0.451449</td>\n",
              "      <td>-0.237033</td>\n",
              "      <td>-0.038195</td>\n",
              "      <td>0.803487</td>\n",
              "      <td>0.408542</td>\n",
              "      <td>-0.009431</td>\n",
              "      <td>0.798278</td>\n",
              "      <td>-0.137458</td>\n",
              "      <td>0.141267</td>\n",
              "      <td>-0.206010</td>\n",
              "      <td>0.502292</td>\n",
              "      <td>0.219422</td>\n",
              "      <td>0.215153</td>\n",
              "      <td>-0.073403</td>\n",
              "      <td>0</td>\n",
              "    </tr>\n",
              "  </tbody>\n",
              "</table>\n",
              "</div>"
            ],
            "text/plain": [
              "         V1        V2        V3        V4  ...       V27       V28    Amount  Class\n",
              "0 -1.359807 -0.072781  2.536347  1.378155  ...  0.133558 -0.021053  0.244964      0\n",
              "1  1.191857  0.266151  0.166480  0.448154  ... -0.008983  0.014724 -0.342475      0\n",
              "2 -1.358354 -1.340163  1.773209  0.379780  ... -0.055353 -0.059752  1.160686      0\n",
              "3 -0.966272 -0.185226  1.792993 -0.863291  ...  0.062723  0.061458  0.140534      0\n",
              "4 -1.158233  0.877737  1.548718  0.403034  ...  0.219422  0.215153 -0.073403      0\n",
              "\n",
              "[5 rows x 30 columns]"
            ]
          },
          "metadata": {
            "tags": []
          },
          "execution_count": 12
        }
      ]
    },
    {
      "cell_type": "code",
      "metadata": {
        "id": "CFEdkMeavZBo",
        "outputId": "2076eb6c-deee-449d-b96a-f734afd10f5d",
        "colab": {
          "base_uri": "https://localhost:8080/",
          "height": 627
        }
      },
      "source": [
        "#Correlation checking among the features and target value (Class) after amount scaling\n",
        "df.corrwith(df.Class).plot.bar(\n",
        "        figsize = (20, 10), title = \"Correlation with Class after amount scaling\", fontsize = 20,\n",
        "        rot = 45, grid = True)"
      ],
      "execution_count": null,
      "outputs": [
        {
          "output_type": "execute_result",
          "data": {
            "text/plain": [
              "<matplotlib.axes._subplots.AxesSubplot at 0x7fcd13afc1d0>"
            ]
          },
          "metadata": {
            "tags": []
          },
          "execution_count": 13
        },
        {
          "output_type": "display_data",
          "data": {
            "image/png": "[encoded data removed]",
            "text/plain": [
              "<Figure size 1440x720 with 1 Axes>"
            ]
          },
          "metadata": {
            "tags": [],
            "needs_background": "light"
          }
        }
      ]
    },
    {
      "cell_type": "code",
      "metadata": {
        "id": "p12_S2qcvZBq",
        "outputId": "d95ebe2f-c98a-42e4-8755-ec6d3f1df473",
        "colab": {
          "base_uri": "https://localhost:8080/",
          "height": 544
        }
      },
      "source": [
        "#Variance check after amount scaling\n",
        "print(df.var())"
      ],
      "execution_count": null,
      "outputs": [
        {
          "output_type": "stream",
          "text": [
            "V1        3.836489\n",
            "V2        2.726820\n",
            "V3        2.299029\n",
            "V4        2.004684\n",
            "V5        1.905081\n",
            "V6        1.774946\n",
            "V7        1.530401\n",
            "V8        1.426479\n",
            "V9        1.206992\n",
            "V10       1.185594\n",
            "V11       1.041855\n",
            "V12       0.998403\n",
            "V13       0.990571\n",
            "V14       0.918906\n",
            "V15       0.837803\n",
            "V16       0.767819\n",
            "V17       0.721373\n",
            "V18       0.702539\n",
            "V19       0.662662\n",
            "V20       0.594325\n",
            "V21       0.539526\n",
            "V22       0.526643\n",
            "V23       0.389951\n",
            "V24       0.366808\n",
            "V25       0.271731\n",
            "V26       0.232543\n",
            "V27       0.162919\n",
            "V28       0.108955\n",
            "Amount    1.000004\n",
            "Class     0.001725\n",
            "dtype: float64\n"
          ],
          "name": "stdout"
        }
      ]
    },
    {
      "cell_type": "code",
      "metadata": {
        "id": "-3lZBfzzvZBs"
      },
      "source": [
        "X = df.loc[:, df.columns != 'Class' ]\n",
        "Y = df.loc[:, df.columns == 'Class' ]\n",
        "\n",
        "#Train Test Split\n",
        "from sklearn.model_selection import train_test_split\n",
        "X_train, X_test, Y_train, Y_test = train_test_split(X, Y, test_size = 0.20, \n",
        "                                                    stratify = Y)\n",
        "\n",
        "X_train_train, X_test_test, Y_train_train, Y_test_test = train_test_split(X_train, Y_train, test_size = 0.20)\n",
        "\n",
        "sm = SMOTE(random_state=42, kind = 'borderline1')\n",
        "\n",
        "X_resampled, Y_resampled = sm.fit_resample(X_train_train, Y_train_train)"
      ],
      "execution_count": null,
      "outputs": []
    },
    {
      "cell_type": "code",
      "metadata": {
        "id": "nt7-Ye84vZBt"
      },
      "source": [
        "# Code to determine layers, batch size, activation and epochs\n",
        "# def create_model(layers, activation):\n",
        "#     model = Sequential()\n",
        "#     for i, nodes in enumerate(layers):\n",
        "#         if i == 0:\n",
        "#             model.add(Dense(nodes, input_dim = len(X.columns)))\n",
        "#             model.add(Activation(activation))\n",
        "#         else:\n",
        "#             model.add(Dense(nodes))\n",
        "#             model.add(Activation(activation))\n",
        "#     model.add(Dense(1))\n",
        "    \n",
        "#     model.compile(optimizer = 'adam', loss='binary_crossentropy')\n",
        "#     return(model)\n",
        "\n",
        "# model = KerasClassifier(build_fn = create_model, verbose = 1)\n",
        "\n",
        "# layers = [[29], [30], [35], [40], [45], [50], [60], [65], [70]]\n",
        "# activations = [keras.activations.sigmoid, keras.activations.relu]\n",
        "# param_grid = dict(layers = layers, activation = activations, batch_size = [256, 512], epochs = [30])\n",
        "# grid = GridSearchCV(estimator = model, param_grid = param_grid, scoring= 'f1')"
      ],
      "execution_count": null,
      "outputs": []
    },
    {
      "cell_type": "code",
      "metadata": {
        "id": "Wo1M6s5hvZBv"
      },
      "source": [
        "# Code to determine neurons, dropout rate and kernel intializer\n",
        "# def create_model(neurons=1, dropout_rate=0.0, init_mode='uniform'):\n",
        "#     model = Sequential()\n",
        "#     model.add(Dense(neurons, input_dim=len(X.columns), kernel_initializer=init_mode, activation='relu'))\n",
        "#     model.add(Dropout(dropout_rate))\n",
        "#     model.add(Dense(1, kernel_initializer=init_mode, activation='sigmoid'))\n",
        "    \n",
        "#     model.compile(loss='binary_crossentropy', optimizer='adam')\n",
        "#     return model\n",
        "# model = KerasClassifier(build_fn=create_model, epochs=30, batch_size=256, verbose=1)\n",
        "# neurons = [29, 30, 35, 40, 45, 50, 55, 60, 65, 70]\n",
        "# dropout_rate = [0.0, 0.1, 0.2, 0.3, 0.4, 0.5, 0.6, 0.7, 0.8, 0.9]\n",
        "# init_mode = ['uniform', 'lecun_uniform', 'normal', 'zero', 'glorot_normal', 'glorot_uniform', 'he_normal', 'he_uniform']\n",
        "# param_grid = dict(neurons = neurons, dropout_rate=dropout_rate, init_mode=init_mode)\n",
        "# grid = GridSearchCV(estimator=model, param_grid=param_grid,cv=5, scoring = make_scorer(f1_score))\n",
        "# grid_result = grid.fit(X_resampled, Y_resampled)\n",
        "# print(\"Best: %f using %s\" % (grid_result.best_score_, grid_result.best_params_))\n",
        "# means = grid_result.cv_results_['mean_test_score']\n",
        "# stds = grid_result.cv_results_['std_test_score']\n",
        "# params = grid_result.cv_results_['params']\n",
        "# for mean, stdev, param in zip(means, stds, params):\n",
        "#     print(\"%f (%f) with: %r\" % (mean, stdev, param))"
      ],
      "execution_count": null,
      "outputs": []
    },
    {
      "cell_type": "code",
      "metadata": {
        "id": "GIuGkH5RvZBw"
      },
      "source": [
        "# Code to determine important features in the dataset\n",
        "# def base_model():\n",
        "#     model = Sequential()\n",
        "#     model.add(Dense(64, input_dim=len(X.columns), activation='relu'))\n",
        "#     model.add(Dense(1, activation='sigmoid'))\n",
        "#     model.compile(loss='binary_crossentropy', optimizer = 'adam', metrics=['accuracy'])\n",
        "#     return model\n",
        "\n",
        "# my_model = KerasClassifier(build_fn=base_model)    \n",
        "# my_model.fit(X_resampled,Y_resampled)\n",
        "\n",
        "# perm = PermutationImportance(my_model, random_state=42).fit(X_resampled,Y_resampled)\n",
        "# eli5.show_weights(perm, feature_names = X.columns.tolist())"
      ],
      "execution_count": null,
      "outputs": []
    },
    {
      "cell_type": "code",
      "metadata": {
        "id": "QZCdjF1dvZBx"
      },
      "source": [
        "# Code to determine Learning Rate \n",
        "# model = Sequential()\n",
        "# model.add(Dense(64, input_dim=len(X.columns), activation='relu'))\n",
        "# model.add(Dropout(0.5))\n",
        "# model.add(Dense(1, activation='sigmoid'))\n",
        "\n",
        "# model.compile(loss='binary_crossentropy',\n",
        "#               optimizer='adam',\n",
        "#               metrics=['accuracy'])\n",
        "\n",
        "# from keras_lr_finder import LRFinder\n",
        "# lr_finder = LRFinder(model)\n",
        "# lr_finder.find(X_resampled, Y_resampled, .00001, 1, 512, 5)\n",
        "\n",
        "# lr_finder.plot_loss()\n",
        "# plt.show()"
      ],
      "execution_count": null,
      "outputs": []
    },
    {
      "cell_type": "code",
      "metadata": {
        "id": "27GSDqlevZBy",
        "outputId": "7ea2e324-eac2-40ba-c09f-31f972da317c",
        "colab": {
          "base_uri": "https://localhost:8080/",
          "height": 54
        }
      },
      "source": [
        "from sklearn.metrics import f1_score\n",
        "callbacks = [EarlyStopping(monitor='val_loss',mode='min',patience=2, restore_best_weights = True)]\n",
        "results_control_accuracy = []\n",
        "for i in range(0,10):\n",
        "    model = Sequential()\n",
        "    model.add(Dense(64, input_dim=len(X.columns),kernel_initializer = 'he_normal', activation='relu'))\n",
        "    model.add(Dropout(0.5))\n",
        "    model.add(Dense(1, activation='sigmoid'))\n",
        "    \n",
        "    model.compile(keras.optimizers.Adam(lr=0.001),'binary_crossentropy',metrics=['accuracy'])\n",
        "\n",
        "    history = model.fit(X_resampled, Y_resampled, callbacks = callbacks,\n",
        "          epochs=30,validation_data = (X_test_test, Y_test_test),\n",
        "          batch_size=512, verbose = 0)\n",
        "\n",
        "    y_test_pred= model.predict(X_test) > 0.5\n",
        "    \n",
        "    f1 = f1_score(Y_test, y_test_pred)\n",
        "    \n",
        "    results_control_accuracy.append(f1)\n",
        "    \n",
        "print(results_control_accuracy)"
      ],
      "execution_count": null,
      "outputs": [
        {
          "output_type": "stream",
          "text": [
            "[0.685483870967742, 0.6590038314176245, 0.7196652719665271, 0.7203389830508473, 0.6719367588932806, 0.6693227091633467, 0.6666666666666665, 0.685483870967742, 0.7172995780590716, 0.7203389830508473]\n"
          ],
          "name": "stdout"
        }
      ]
    },
    {
      "cell_type": "code",
      "metadata": {
        "id": "lp5iJ016vZB0"
      },
      "source": [
        "results_control_accuracy = pd.DataFrame(results_control_accuracy)"
      ],
      "execution_count": null,
      "outputs": []
    },
    {
      "cell_type": "code",
      "metadata": {
        "id": "qYkw0eekvZB1",
        "outputId": "f0739370-d7c9-46f4-90ad-6a4822ddb057",
        "colab": {
          "base_uri": "https://localhost:8080/",
          "height": 51
        }
      },
      "source": [
        "mean_control_accuracy = results_control_accuracy.mean()\n",
        "print(\"Mean Control Accuracy: {}\".format(mean_control_accuracy))"
      ],
      "execution_count": null,
      "outputs": [
        {
          "output_type": "stream",
          "text": [
            "Mean Control Accuracy: 0    0.691554\n",
            "dtype: float64\n"
          ],
          "name": "stdout"
        }
      ]
    },
    {
      "cell_type": "code",
      "metadata": {
        "id": "L7jy-UIfvZB2",
        "outputId": "42765eeb-71b5-44ac-fad8-359e73006a6b",
        "colab": {
          "base_uri": "https://localhost:8080/",
          "height": 51
        }
      },
      "source": [
        "std_control_accuracy = results_control_accuracy.std()\n",
        "print(\"Standard Deviation of Control Accuracy Results: {}\".format(std_control_accuracy))"
      ],
      "execution_count": null,
      "outputs": [
        {
          "output_type": "stream",
          "text": [
            "Standard Deviation of Control Accuracy Results: 0    0.025258\n",
            "dtype: float64\n"
          ],
          "name": "stdout"
        }
      ]
    },
    {
      "cell_type": "code",
      "metadata": {
        "id": "1D7WadhfvZB4",
        "outputId": "563a9bd6-7b5e-4e4f-a739-293e1f84c975",
        "colab": {
          "base_uri": "https://localhost:8080/",
          "height": 295
        }
      },
      "source": [
        "plt.plot(history.history['accuracy'])\n",
        "plt.plot(history.history['val_accuracy'])\n",
        "plt.title('model accuracy')\n",
        "plt.ylabel('accuracy')\n",
        "plt.xlabel('epoch')\n",
        "plt.legend(['train', 'test'], loc='lower right')\n",
        "plt.show()"
      ],
      "execution_count": null,
      "outputs": [
        {
          "output_type": "display_data",
          "data": {
            "image/png": "[encoded data removed]",
            "text/plain": [
              "<Figure size 432x288 with 1 Axes>"
            ]
          },
          "metadata": {
            "tags": [],
            "needs_background": "light"
          }
        }
      ]
    },
    {
      "cell_type": "code",
      "metadata": {
        "id": "Y2CbLksHvZB5",
        "outputId": "46bb2256-5d96-4642-a608-8b00f7baad17",
        "colab": {
          "base_uri": "https://localhost:8080/",
          "height": 295
        }
      },
      "source": [
        "plt.plot(history.history['loss'])\n",
        "plt.plot(history.history['val_loss'])\n",
        "plt.title('model loss')\n",
        "plt.ylabel('loss')\n",
        "plt.xlabel('epoch')\n",
        "plt.legend(['train', 'test'], loc='upper right')\n",
        "plt.show()"
      ],
      "execution_count": null,
      "outputs": [
        {
          "output_type": "display_data",
          "data": {
            "image/png": "[encoded data removed]",
            "text/plain": [
              "<Figure size 432x288 with 1 Axes>"
            ]
          },
          "metadata": {
            "tags": [],
            "needs_background": "light"
          }
        }
      ]
    },
    {
      "cell_type": "code",
      "metadata": {
        "id": "Mng18lqLvZB6",
        "outputId": "7d4693fe-7d8e-45f7-dc62-33fcad4b2626",
        "colab": {
          "base_uri": "https://localhost:8080/",
          "height": 51
        }
      },
      "source": [
        "#Confusion Matrix \n",
        "from sklearn.metrics import confusion_matrix\n",
        "cm = confusion_matrix(Y_test, y_test_pred)\n",
        "print(cm)"
      ],
      "execution_count": null,
      "outputs": [
        {
          "output_type": "stream",
          "text": [
            "[[56811    53]\n",
            " [   13    85]]\n"
          ],
          "name": "stdout"
        }
      ]
    },
    {
      "cell_type": "code",
      "metadata": {
        "id": "UnunVBb4vZB7",
        "outputId": "53fb181b-6fae-4479-8460-3243f3145ee1",
        "colab": {
          "base_uri": "https://localhost:8080/",
          "height": 170
        }
      },
      "source": [
        "from sklearn.metrics import classification_report\n",
        "print(classification_report(Y_test, y_test_pred))"
      ],
      "execution_count": null,
      "outputs": [
        {
          "output_type": "stream",
          "text": [
            "              precision    recall  f1-score   support\n",
            "\n",
            "           0       1.00      1.00      1.00     56864\n",
            "           1       0.62      0.87      0.72        98\n",
            "\n",
            "    accuracy                           1.00     56962\n",
            "   macro avg       0.81      0.93      0.86     56962\n",
            "weighted avg       1.00      1.00      1.00     56962\n",
            "\n"
          ],
          "name": "stdout"
        }
      ]
    },
    {
      "cell_type": "code",
      "metadata": {
        "id": "lt7hMDsCvZB8",
        "outputId": "51e8aad6-9d3a-442d-f7c2-4c4d9d93ae33",
        "colab": {
          "base_uri": "https://localhost:8080/",
          "height": 51
        }
      },
      "source": [
        "print('Train Accuracy: {}\\nTest Accuracy:{}'.format(history.history['accuracy'][-1], history.history['val_accuracy'][-1]))"
      ],
      "execution_count": null,
      "outputs": [
        {
          "output_type": "stream",
          "text": [
            "Train Accuracy: 0.9988541603088379\n",
            "Test Accuracy:0.9988150000572205\n"
          ],
          "name": "stdout"
        }
      ]
    },
    {
      "cell_type": "code",
      "metadata": {
        "id": "u-Mv1mG_vZB-",
        "outputId": "9ece1871-3808-4a14-f599-0dd3b8bd7aa1",
        "colab": {
          "base_uri": "https://localhost:8080/",
          "height": 295
        }
      },
      "source": [
        "#Roc curve generation\n",
        "from sklearn.metrics import roc_curve\n",
        "fpr, tpr, thresholds = roc_curve(Y_test, y_test_pred)\n",
        "plt.plot ([0, 1], [0, 1], 'k--')\n",
        "plt.plot(fpr, tpr, label = 'Deep Learning')\n",
        "plt.xlabel('False Positive Rate')\n",
        "plt.ylabel('True Positive Rate')\n",
        "plt.title('Deep Learning')\n",
        "plt.show()"
      ],
      "execution_count": null,
      "outputs": [
        {
          "output_type": "display_data",
          "data": {
            "image/png": "[encoded data removed]",
            "text/plain": [
              "<Figure size 432x288 with 1 Axes>"
            ]
          },
          "metadata": {
            "tags": [],
            "needs_background": "light"
          }
        }
      ]
    },
    {
      "cell_type": "code",
      "metadata": {
        "id": "9HdUi_RCvZB_"
      },
      "source": [
        "# Code to determine learning rate \n",
        "# model = Sequential()\n",
        "# model.add(Dense(64, input_dim=len(X.columns), activation='relu'))\n",
        "# model.add(Dropout(0.5))\n",
        "# model.add(Dense(64, activation='relu'))\n",
        "# model.add(Dropout(0.5))\n",
        "# model.add(Dense(1, activation='sigmoid'))\n",
        "\n",
        "# model.compile(loss='binary_crossentropy',\n",
        "#               optimizer='adam',\n",
        "#               metrics=['accuracy'])\n",
        "\n",
        "# from keras_lr_finder import LRFinder\n",
        "# lr_finder = LRFinder(model)\n",
        "# lr_finder.find(X_resampled, Y_resampled, .00001, 1, 512, 5)\n",
        "\n",
        "# lr_finder.plot_loss()\n",
        "# plt.show()"
      ],
      "execution_count": null,
      "outputs": []
    },
    {
      "cell_type": "code",
      "metadata": {
        "id": "h7hK3XVfvZCA",
        "outputId": "f2371997-7fdc-4a23-d6f2-49b70afc2907",
        "colab": {
          "base_uri": "https://localhost:8080/",
          "height": 54
        }
      },
      "source": [
        "from sklearn.metrics import f1_score\n",
        "callbacks = [EarlyStopping(monitor='val_loss',mode='min',patience=2, restore_best_weights = True)]\n",
        "results_experimental_accuracy = []\n",
        "for i in range(0,10):\n",
        "    model = Sequential()\n",
        "    model.add(Dense(64, input_dim=len(X.columns),kernel_initializer = 'he_normal',activation='relu'))\n",
        "    model.add(Dropout(0.5))\n",
        "    model.add(Dense(64, kernel_initializer = 'he_normal', activation='relu'))\n",
        "    model.add(Dropout(0.5))\n",
        "    model.add(Dense(1, activation='sigmoid'))\n",
        "    \n",
        "    model.compile(keras.optimizers.Adam(lr=0.001),'binary_crossentropy',metrics=['accuracy'])\n",
        "\n",
        "    history = model.fit(X_resampled, Y_resampled,callbacks = callbacks,\n",
        "          epochs=30,validation_data = (X_test_test, Y_test_test),\n",
        "          batch_size=512, verbose = 0)\n",
        "\n",
        "    y_test_pred= model.predict(X_test) > 0.5\n",
        "    \n",
        "    f1 = f1_score(Y_test, y_test_pred)\n",
        "    \n",
        "    results_experimental_accuracy.append(f1)\n",
        "    \n",
        "print(results_experimental_accuracy)"
      ],
      "execution_count": null,
      "outputs": [
        {
          "output_type": "stream",
          "text": [
            "[0.8210526315789473, 0.8, 0.8210526315789473, 0.8290155440414508, 0.8200000000000001, 0.8258706467661691, 0.7788461538461539, 0.7849462365591399, 0.84375, 0.7979797979797979]\n"
          ],
          "name": "stdout"
        }
      ]
    },
    {
      "cell_type": "code",
      "metadata": {
        "id": "-TbwGJ_uvZCB"
      },
      "source": [
        "results_experimental_accuracy = pd.DataFrame(results_experimental_accuracy)"
      ],
      "execution_count": null,
      "outputs": []
    },
    {
      "cell_type": "code",
      "metadata": {
        "id": "0JH3G_yLvZCC",
        "outputId": "145f01f4-50a5-4b2f-c8f1-e0dff6c125d3",
        "colab": {
          "base_uri": "https://localhost:8080/",
          "height": 51
        }
      },
      "source": [
        "mean_experimental_accuracy = results_experimental_accuracy.mean()\n",
        "print(\"Mean Experimental Accuracy: {}\".format(mean_experimental_accuracy))"
      ],
      "execution_count": null,
      "outputs": [
        {
          "output_type": "stream",
          "text": [
            "Mean Experimental Accuracy: 0    0.812251\n",
            "dtype: float64\n"
          ],
          "name": "stdout"
        }
      ]
    },
    {
      "cell_type": "code",
      "metadata": {
        "id": "zsACUnk3vZCD",
        "outputId": "8037aed9-af96-4a01-a899-46633be0b7ef",
        "colab": {
          "base_uri": "https://localhost:8080/",
          "height": 51
        }
      },
      "source": [
        "std_experimental_accuracy = results_experimental_accuracy.std()\n",
        "print(\"Standard Deviation of Experimental Accuracy Results: {}\".format(std_experimental_accuracy))"
      ],
      "execution_count": null,
      "outputs": [
        {
          "output_type": "stream",
          "text": [
            "Standard Deviation of Experimental Accuracy Results: 0    0.020787\n",
            "dtype: float64\n"
          ],
          "name": "stdout"
        }
      ]
    },
    {
      "cell_type": "code",
      "metadata": {
        "id": "t0261EukvZCE",
        "outputId": "b41fd18e-6796-4d11-a7b6-3d34f2b6c81e",
        "colab": {
          "base_uri": "https://localhost:8080/",
          "height": 295
        }
      },
      "source": [
        "plt.plot(history.history['accuracy'])\n",
        "plt.plot(history.history['val_accuracy'])\n",
        "plt.title('model accuracy')\n",
        "plt.ylabel('accuracy')\n",
        "plt.xlabel('epoch')\n",
        "plt.legend(['train', 'test'], loc='lower right')\n",
        "plt.show()"
      ],
      "execution_count": null,
      "outputs": [
        {
          "output_type": "display_data",
          "data": {
            "image/png": "[encoded data removed]",
            "text/plain": [
              "<Figure size 432x288 with 1 Axes>"
            ]
          },
          "metadata": {
            "tags": [],
            "needs_background": "light"
          }
        }
      ]
    },
    {
      "cell_type": "code",
      "metadata": {
        "id": "N3ilwkTovZCF",
        "outputId": "70cda596-0033-4570-cf20-d5071b11ab32",
        "colab": {
          "base_uri": "https://localhost:8080/",
          "height": 295
        }
      },
      "source": [
        "plt.plot(history.history['loss'])\n",
        "plt.plot(history.history['val_loss'])\n",
        "plt.title('model loss')\n",
        "plt.ylabel('loss')\n",
        "plt.xlabel('epoch')\n",
        "plt.legend(['train', 'test'], loc='upper right')\n",
        "plt.show()"
      ],
      "execution_count": null,
      "outputs": [
        {
          "output_type": "display_data",
          "data": {
            "image/png": "[encoded data removed]",
            "text/plain": [
              "<Figure size 432x288 with 1 Axes>"
            ]
          },
          "metadata": {
            "tags": [],
            "needs_background": "light"
          }
        }
      ]
    },
    {
      "cell_type": "code",
      "metadata": {
        "id": "6-DgwaO6vZCG",
        "outputId": "6d321d45-99da-47a1-e48b-9b8c1eb46080",
        "colab": {
          "base_uri": "https://localhost:8080/",
          "height": 51
        }
      },
      "source": [
        "#Confusion Matrix generation\n",
        "from sklearn.metrics import confusion_matrix\n",
        "cm = confusion_matrix(Y_test, y_test_pred)\n",
        "print(cm)"
      ],
      "execution_count": null,
      "outputs": [
        {
          "output_type": "stream",
          "text": [
            "[[56843    21]\n",
            " [   19    79]]\n"
          ],
          "name": "stdout"
        }
      ]
    },
    {
      "cell_type": "code",
      "metadata": {
        "id": "KiDbzUTQvZCH",
        "outputId": "d26445cb-79f5-4e21-b7f4-d8c154398e2c",
        "colab": {
          "base_uri": "https://localhost:8080/",
          "height": 170
        }
      },
      "source": [
        "#Classification Report\n",
        "from sklearn.metrics import classification_report\n",
        "print(classification_report(Y_test, y_test_pred))"
      ],
      "execution_count": null,
      "outputs": [
        {
          "output_type": "stream",
          "text": [
            "              precision    recall  f1-score   support\n",
            "\n",
            "           0       1.00      1.00      1.00     56864\n",
            "           1       0.79      0.81      0.80        98\n",
            "\n",
            "    accuracy                           1.00     56962\n",
            "   macro avg       0.89      0.90      0.90     56962\n",
            "weighted avg       1.00      1.00      1.00     56962\n",
            "\n"
          ],
          "name": "stdout"
        }
      ]
    },
    {
      "cell_type": "code",
      "metadata": {
        "id": "3vUxcPb_vZCJ",
        "outputId": "5885dc96-e40a-492d-c2e3-f1f078a09c59",
        "colab": {
          "base_uri": "https://localhost:8080/",
          "height": 51
        }
      },
      "source": [
        "print('Train Accuracy: {}\\nTest Accuracy:{}'.format(history.history['accuracy'][-1], history.history['val_accuracy'][-1]))"
      ],
      "execution_count": null,
      "outputs": [
        {
          "output_type": "stream",
          "text": [
            "Train Accuracy: 0.9994834065437317\n",
            "Test Accuracy:0.9992977976799011\n"
          ],
          "name": "stdout"
        }
      ]
    },
    {
      "cell_type": "code",
      "metadata": {
        "id": "jYHs_aruvZCK",
        "outputId": "a1604d3b-78a4-48c3-8ab3-0a6e3eeef24f",
        "colab": {
          "base_uri": "https://localhost:8080/",
          "height": 295
        }
      },
      "source": [
        "#Roc Curve generation\n",
        "from sklearn.metrics import roc_curve\n",
        "fpr, tpr, thresholds = roc_curve(Y_test, y_test_pred)\n",
        "plt.plot ([0, 1], [0, 1], 'k--')\n",
        "plt.plot(fpr, tpr, label = 'Deep Learning')\n",
        "plt.xlabel('False Positive Rate')\n",
        "plt.ylabel('True Positive Rate')\n",
        "plt.title('Deep Learning')\n",
        "plt.show()"
      ],
      "execution_count": null,
      "outputs": [
        {
          "output_type": "display_data",
          "data": {
            "image/png": "[encoded data removed]",
            "text/plain": [
              "<Figure size 432x288 with 1 Axes>"
            ]
          },
          "metadata": {
            "tags": [],
            "needs_background": "light"
          }
        }
      ]
    },
    {
      "cell_type": "code",
      "metadata": {
        "id": "JtVnowqpvZCL"
      },
      "source": [
        "results_accuracy= pd.concat([results_control_accuracy, results_experimental_accuracy], axis=1)\n",
        "results_accuracy.columns = ['Control', 'Experimental']"
      ],
      "execution_count": null,
      "outputs": []
    },
    {
      "cell_type": "code",
      "metadata": {
        "id": "Yfcq4WiVvZCM",
        "outputId": "79d69494-d4cf-409c-84c5-4aa05eb62b82",
        "colab": {
          "base_uri": "https://localhost:8080/",
          "height": 283
        }
      },
      "source": [
        "results_accuracy.boxplot()"
      ],
      "execution_count": null,
      "outputs": [
        {
          "output_type": "execute_result",
          "data": {
            "text/plain": [
              "<matplotlib.axes._subplots.AxesSubplot at 0x7fccb6832dd8>"
            ]
          },
          "metadata": {
            "tags": []
          },
          "execution_count": 41
        },
        {
          "output_type": "display_data",
          "data": {
            "image/png": "[encoded data removed]",
            "text/plain": [
              "<Figure size 432x288 with 1 Axes>"
            ]
          },
          "metadata": {
            "tags": [],
            "needs_background": "light"
          }
        }
      ]
    },
    {
      "cell_type": "code",
      "metadata": {
        "id": "0KdY7WFgvZCN",
        "outputId": "2727789e-2ff4-44d1-962e-3149b46bea64",
        "colab": {
          "base_uri": "https://localhost:8080/",
          "height": 283
        }
      },
      "source": [
        "results_accuracy.boxplot(showfliers=False)"
      ],
      "execution_count": null,
      "outputs": [
        {
          "output_type": "execute_result",
          "data": {
            "text/plain": [
              "<matplotlib.axes._subplots.AxesSubplot at 0x7fccb5e08438>"
            ]
          },
          "metadata": {
            "tags": []
          },
          "execution_count": 42
        },
        {
          "output_type": "display_data",
          "data": {
            "image/png": "[encoded data removed]",
            "text/plain": [
              "<Figure size 432x288 with 1 Axes>"
            ]
          },
          "metadata": {
            "tags": [],
            "needs_background": "light"
          }
        }
      ]
    },
    {
      "cell_type": "code",
      "metadata": {
        "id": "Erol6XSCvZCO",
        "outputId": "b65cd4a4-1ce9-47ca-bfbf-6a5ea0ffd4e1",
        "colab": {
          "base_uri": "https://localhost:8080/",
          "height": 286
        }
      },
      "source": [
        "ax = results_accuracy.boxplot()\n",
        "ax.set_ylim([0.9,1])"
      ],
      "execution_count": null,
      "outputs": [
        {
          "output_type": "execute_result",
          "data": {
            "text/plain": [
              "(0.9, 1.0)"
            ]
          },
          "metadata": {
            "tags": []
          },
          "execution_count": 43
        },
        {
          "output_type": "display_data",
          "data": {
            "image/png": "[encoded data removed]",
            "text/plain": [
              "<Figure size 432x288 with 1 Axes>"
            ]
          },
          "metadata": {
            "tags": [],
            "needs_background": "light"
          }
        }
      ]
    },
    {
      "cell_type": "code",
      "metadata": {
        "id": "ib2xVMw8vZCP",
        "outputId": "f69ead67-92a3-4f75-bd06-1a5ab4a80fa1",
        "colab": {
          "base_uri": "https://localhost:8080/",
          "height": 332
        }
      },
      "source": [
        "results_accuracy.hist(density=True)"
      ],
      "execution_count": null,
      "outputs": [
        {
          "output_type": "execute_result",
          "data": {
            "text/plain": [
              "array([[<matplotlib.axes._subplots.AxesSubplot object at 0x7fccbed42f98>,\n",
              "        <matplotlib.axes._subplots.AxesSubplot object at 0x7fccbee9d1d0>]],\n",
              "      dtype=object)"
            ]
          },
          "metadata": {
            "tags": []
          },
          "execution_count": 44
        },
        {
          "output_type": "display_data",
          "data": {
            "image/png": "[encoded data removed]",
            "text/plain": [
              "<Figure size 432x288 with 2 Axes>"
            ]
          },
          "metadata": {
            "tags": [],
            "needs_background": "light"
          }
        }
      ]
    },
    {
      "cell_type": "code",
      "metadata": {
        "id": "HXO-b_o4vZCQ",
        "outputId": "52c4d2e9-b047-4224-d842-5e4d711ca53b",
        "colab": {
          "base_uri": "https://localhost:8080/",
          "height": 51
        }
      },
      "source": [
        "#Normality Testing\n",
        "from scipy import stats\n",
        "\n",
        "alpha = 0.05;\n",
        "\n",
        "s, p = stats.normaltest(results_control_accuracy)\n",
        "if p < alpha:\n",
        "  print('Control data is not normal')\n",
        "else:\n",
        "  print('Control data is normal')\n",
        "\n",
        "s, p = stats.normaltest(results_experimental_accuracy)\n",
        "if p < alpha:\n",
        "  print('Experimental data is not normal')\n",
        "else:\n",
        "  print('Experimental data is normal')"
      ],
      "execution_count": null,
      "outputs": [
        {
          "output_type": "stream",
          "text": [
            "Control data is normal\n",
            "Experimental data is normal\n"
          ],
          "name": "stdout"
        }
      ]
    },
    {
      "cell_type": "code",
      "metadata": {
        "id": "5fazw2QJvZCR",
        "outputId": "2b8f9859-5369-46af-95b3-6cd2d5122c60",
        "colab": {
          "base_uri": "https://localhost:8080/",
          "height": 34
        }
      },
      "source": [
        "#Significance Testing\n",
        "s, p = stats.wilcoxon(results_control_accuracy[0], results_experimental_accuracy[0])\n",
        "\n",
        "if p < 0.05:\n",
        "  print('null hypothesis rejected, significant difference between the data-sets')\n",
        "else:\n",
        "  print('null hypothesis accepted, no significant difference between the data-sets')"
      ],
      "execution_count": null,
      "outputs": [
        {
          "output_type": "stream",
          "text": [
            "null hypothesis rejected, significant difference between the data-sets\n"
          ],
          "name": "stdout"
        }
      ]
    }
  ]
}